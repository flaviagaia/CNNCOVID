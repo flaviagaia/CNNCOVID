{
  "cells": [
    {
      "cell_type": "markdown",
      "metadata": {
        "id": "jkr_NuNMnfhP"
      },
      "source": [
        "# Tirando os dados da fonte para a base de dados junta"
      ]
    },
    {
      "cell_type": "code",
      "execution_count": null,
      "metadata": {
        "colab": {
          "base_uri": "https://localhost:8080/"
        },
        "id": "TElAp9lD6DzI",
        "outputId": "2d5c644e-95da-48ea-cd41-591f60474852"
      },
      "outputs": [
        {
          "name": "stdout",
          "output_type": "stream",
          "text": [
            "Drive already mounted at /content/drive; to attempt to forcibly remount, call drive.mount(\"/content/drive\", force_remount=True).\n"
          ]
        }
      ],
      "source": [
        "from google.colab import drive\n",
        "# montar o Google Drive\n",
        "drive.mount('/content/drive')"
      ]
    },
    {
      "cell_type": "markdown",
      "metadata": {
        "id": "JbTDsx2A087I"
      },
      "source": [
        "# covid-chestxray-dataset-master\n",
        "468 imagens de covid\n",
        "https://github.com/ieee8023/covid-chestxray-dataset/tree/master"
      ]
    },
    {
      "cell_type": "code",
      "execution_count": null,
      "metadata": {
        "colab": {
          "base_uri": "https://localhost:8080/"
        },
        "id": "iOY4BrHqefoE",
        "outputId": "80cbc6c5-a358-49ac-b4a0-9edabd0afe91"
      },
      "outputs": [
        {
          "name": "stdout",
          "output_type": "stream",
          "text": [
            "Cloning into 'covid-chestxray-dataset'...\n",
            "remote: Enumerating objects: 3641, done.\u001b[K\n",
            "remote: Total 3641 (delta 0), reused 0 (delta 0), pack-reused 3641\u001b[K\n",
            "Receiving objects: 100% (3641/3641), 632.96 MiB | 33.32 MiB/s, done.\n",
            "Resolving deltas: 100% (1450/1450), done.\n",
            "Updating files: 100% (1174/1174), done.\n"
          ]
        }
      ],
      "source": [
        "!git clone https://github.com/ieee8023/covid-chestxray-dataset"
      ]
    },
    {
      "cell_type": "code",
      "execution_count": null,
      "metadata": {
        "colab": {
          "base_uri": "https://localhost:8080/"
        },
        "id": "2gw8YYIee8lD",
        "outputId": "0783667a-980b-47a1-88c7-b363a97281ed"
      },
      "outputs": [
        {
          "name": "stdout",
          "output_type": "stream",
          "text": [
            "annotations  images\t   README.md\t     SCHEMA.md\ttests\n",
            "docs\t     metadata.csv  requirements.txt  scripts\tvolumes\n"
          ]
        }
      ],
      "source": [
        "!ls /content/covid-chestxray-dataset"
      ]
    },
    {
      "cell_type": "code",
      "execution_count": null,
      "metadata": {
        "colab": {
          "base_uri": "https://localhost:8080/",
          "height": 620
        },
        "id": "4MIgm9J6en1d",
        "outputId": "4615f25d-89b7-4d75-8df9-f7b96cb3c4dd"
      },
      "outputs": [
        {
          "data": {
            "text/html": [
              "\n",
              "  <div id=\"df-bcf8328c-9f3c-47ff-bed0-bffb7b6bca2d\" class=\"colab-df-container\">\n",
              "    <div>\n",
              "<style scoped>\n",
              "    .dataframe tbody tr th:only-of-type {\n",
              "        vertical-align: middle;\n",
              "    }\n",
              "\n",
              "    .dataframe tbody tr th {\n",
              "        vertical-align: top;\n",
              "    }\n",
              "\n",
              "    .dataframe thead th {\n",
              "        text-align: right;\n",
              "    }\n",
              "</style>\n",
              "<table border=\"1\" class=\"dataframe\">\n",
              "  <thead>\n",
              "    <tr style=\"text-align: right;\">\n",
              "      <th></th>\n",
              "      <th>patientid</th>\n",
              "      <th>offset</th>\n",
              "      <th>sex</th>\n",
              "      <th>age</th>\n",
              "      <th>finding</th>\n",
              "      <th>RT_PCR_positive</th>\n",
              "      <th>survival</th>\n",
              "      <th>intubated</th>\n",
              "      <th>intubation_present</th>\n",
              "      <th>went_icu</th>\n",
              "      <th>...</th>\n",
              "      <th>date</th>\n",
              "      <th>location</th>\n",
              "      <th>folder</th>\n",
              "      <th>filename</th>\n",
              "      <th>doi</th>\n",
              "      <th>url</th>\n",
              "      <th>license</th>\n",
              "      <th>clinical_notes</th>\n",
              "      <th>other_notes</th>\n",
              "      <th>Unnamed: 29</th>\n",
              "    </tr>\n",
              "  </thead>\n",
              "  <tbody>\n",
              "    <tr>\n",
              "      <th>0</th>\n",
              "      <td>2</td>\n",
              "      <td>0.0</td>\n",
              "      <td>M</td>\n",
              "      <td>65.0</td>\n",
              "      <td>Pneumonia/Viral/COVID-19</td>\n",
              "      <td>Y</td>\n",
              "      <td>Y</td>\n",
              "      <td>N</td>\n",
              "      <td>N</td>\n",
              "      <td>N</td>\n",
              "      <td>...</td>\n",
              "      <td>January 22, 2020</td>\n",
              "      <td>Cho Ray Hospital, Ho Chi Minh City, Vietnam</td>\n",
              "      <td>images</td>\n",
              "      <td>auntminnie-a-2020_01_28_23_51_6665_2020_01_28_...</td>\n",
              "      <td>10.1056/nejmc2001272</td>\n",
              "      <td>https://www.nejm.org/doi/full/10.1056/NEJMc200...</td>\n",
              "      <td>NaN</td>\n",
              "      <td>On January 22, 2020, a 65-year-old man with a ...</td>\n",
              "      <td>NaN</td>\n",
              "      <td>NaN</td>\n",
              "    </tr>\n",
              "    <tr>\n",
              "      <th>1</th>\n",
              "      <td>2</td>\n",
              "      <td>3.0</td>\n",
              "      <td>M</td>\n",
              "      <td>65.0</td>\n",
              "      <td>Pneumonia/Viral/COVID-19</td>\n",
              "      <td>Y</td>\n",
              "      <td>Y</td>\n",
              "      <td>N</td>\n",
              "      <td>N</td>\n",
              "      <td>N</td>\n",
              "      <td>...</td>\n",
              "      <td>January 25, 2020</td>\n",
              "      <td>Cho Ray Hospital, Ho Chi Minh City, Vietnam</td>\n",
              "      <td>images</td>\n",
              "      <td>auntminnie-b-2020_01_28_23_51_6665_2020_01_28_...</td>\n",
              "      <td>10.1056/nejmc2001272</td>\n",
              "      <td>https://www.nejm.org/doi/full/10.1056/NEJMc200...</td>\n",
              "      <td>NaN</td>\n",
              "      <td>On January 22, 2020, a 65-year-old man with a ...</td>\n",
              "      <td>NaN</td>\n",
              "      <td>NaN</td>\n",
              "    </tr>\n",
              "    <tr>\n",
              "      <th>2</th>\n",
              "      <td>2</td>\n",
              "      <td>5.0</td>\n",
              "      <td>M</td>\n",
              "      <td>65.0</td>\n",
              "      <td>Pneumonia/Viral/COVID-19</td>\n",
              "      <td>Y</td>\n",
              "      <td>Y</td>\n",
              "      <td>N</td>\n",
              "      <td>N</td>\n",
              "      <td>N</td>\n",
              "      <td>...</td>\n",
              "      <td>January 27, 2020</td>\n",
              "      <td>Cho Ray Hospital, Ho Chi Minh City, Vietnam</td>\n",
              "      <td>images</td>\n",
              "      <td>auntminnie-c-2020_01_28_23_51_6665_2020_01_28_...</td>\n",
              "      <td>10.1056/nejmc2001272</td>\n",
              "      <td>https://www.nejm.org/doi/full/10.1056/NEJMc200...</td>\n",
              "      <td>NaN</td>\n",
              "      <td>On January 22, 2020, a 65-year-old man with a ...</td>\n",
              "      <td>NaN</td>\n",
              "      <td>NaN</td>\n",
              "    </tr>\n",
              "    <tr>\n",
              "      <th>3</th>\n",
              "      <td>2</td>\n",
              "      <td>6.0</td>\n",
              "      <td>M</td>\n",
              "      <td>65.0</td>\n",
              "      <td>Pneumonia/Viral/COVID-19</td>\n",
              "      <td>Y</td>\n",
              "      <td>Y</td>\n",
              "      <td>N</td>\n",
              "      <td>N</td>\n",
              "      <td>N</td>\n",
              "      <td>...</td>\n",
              "      <td>January 28, 2020</td>\n",
              "      <td>Cho Ray Hospital, Ho Chi Minh City, Vietnam</td>\n",
              "      <td>images</td>\n",
              "      <td>auntminnie-d-2020_01_28_23_51_6665_2020_01_28_...</td>\n",
              "      <td>10.1056/nejmc2001272</td>\n",
              "      <td>https://www.nejm.org/doi/full/10.1056/NEJMc200...</td>\n",
              "      <td>NaN</td>\n",
              "      <td>On January 22, 2020, a 65-year-old man with a ...</td>\n",
              "      <td>NaN</td>\n",
              "      <td>NaN</td>\n",
              "    </tr>\n",
              "    <tr>\n",
              "      <th>4</th>\n",
              "      <td>4</td>\n",
              "      <td>0.0</td>\n",
              "      <td>F</td>\n",
              "      <td>52.0</td>\n",
              "      <td>Pneumonia/Viral/COVID-19</td>\n",
              "      <td>Y</td>\n",
              "      <td>NaN</td>\n",
              "      <td>N</td>\n",
              "      <td>N</td>\n",
              "      <td>N</td>\n",
              "      <td>...</td>\n",
              "      <td>January 25, 2020</td>\n",
              "      <td>Changhua Christian Hospital, Changhua City, Ta...</td>\n",
              "      <td>images</td>\n",
              "      <td>nejmc2001573_f1a.jpeg</td>\n",
              "      <td>10.1056/NEJMc2001573</td>\n",
              "      <td>https://www.nejm.org/doi/full/10.1056/NEJMc200...</td>\n",
              "      <td>NaN</td>\n",
              "      <td>diffuse infiltrates in the bilateral lower lungs</td>\n",
              "      <td>NaN</td>\n",
              "      <td>NaN</td>\n",
              "    </tr>\n",
              "  </tbody>\n",
              "</table>\n",
              "<p>5 rows × 30 columns</p>\n",
              "</div>\n",
              "    <div class=\"colab-df-buttons\">\n",
              "\n",
              "  <div class=\"colab-df-container\">\n",
              "    <button class=\"colab-df-convert\" onclick=\"convertToInteractive('df-bcf8328c-9f3c-47ff-bed0-bffb7b6bca2d')\"\n",
              "            title=\"Convert this dataframe to an interactive table.\"\n",
              "            style=\"display:none;\">\n",
              "\n",
              "  <svg xmlns=\"http://www.w3.org/2000/svg\" height=\"24px\" viewBox=\"0 -960 960 960\">\n",
              "    <path d=\"M120-120v-720h720v720H120Zm60-500h600v-160H180v160Zm220 220h160v-160H400v160Zm0 220h160v-160H400v160ZM180-400h160v-160H180v160Zm440 0h160v-160H620v160ZM180-180h160v-160H180v160Zm440 0h160v-160H620v160Z\"/>\n",
              "  </svg>\n",
              "    </button>\n",
              "\n",
              "  <style>\n",
              "    .colab-df-container {\n",
              "      display:flex;\n",
              "      gap: 12px;\n",
              "    }\n",
              "\n",
              "    .colab-df-convert {\n",
              "      background-color: #E8F0FE;\n",
              "      border: none;\n",
              "      border-radius: 50%;\n",
              "      cursor: pointer;\n",
              "      display: none;\n",
              "      fill: #1967D2;\n",
              "      height: 32px;\n",
              "      padding: 0 0 0 0;\n",
              "      width: 32px;\n",
              "    }\n",
              "\n",
              "    .colab-df-convert:hover {\n",
              "      background-color: #E2EBFA;\n",
              "      box-shadow: 0px 1px 2px rgba(60, 64, 67, 0.3), 0px 1px 3px 1px rgba(60, 64, 67, 0.15);\n",
              "      fill: #174EA6;\n",
              "    }\n",
              "\n",
              "    .colab-df-buttons div {\n",
              "      margin-bottom: 4px;\n",
              "    }\n",
              "\n",
              "    [theme=dark] .colab-df-convert {\n",
              "      background-color: #3B4455;\n",
              "      fill: #D2E3FC;\n",
              "    }\n",
              "\n",
              "    [theme=dark] .colab-df-convert:hover {\n",
              "      background-color: #434B5C;\n",
              "      box-shadow: 0px 1px 3px 1px rgba(0, 0, 0, 0.15);\n",
              "      filter: drop-shadow(0px 1px 2px rgba(0, 0, 0, 0.3));\n",
              "      fill: #FFFFFF;\n",
              "    }\n",
              "  </style>\n",
              "\n",
              "    <script>\n",
              "      const buttonEl =\n",
              "        document.querySelector('#df-bcf8328c-9f3c-47ff-bed0-bffb7b6bca2d button.colab-df-convert');\n",
              "      buttonEl.style.display =\n",
              "        google.colab.kernel.accessAllowed ? 'block' : 'none';\n",
              "\n",
              "      async function convertToInteractive(key) {\n",
              "        const element = document.querySelector('#df-bcf8328c-9f3c-47ff-bed0-bffb7b6bca2d');\n",
              "        const dataTable =\n",
              "          await google.colab.kernel.invokeFunction('convertToInteractive',\n",
              "                                                    [key], {});\n",
              "        if (!dataTable) return;\n",
              "\n",
              "        const docLinkHtml = 'Like what you see? Visit the ' +\n",
              "          '<a target=\"_blank\" href=https://colab.research.google.com/notebooks/data_table.ipynb>data table notebook</a>'\n",
              "          + ' to learn more about interactive tables.';\n",
              "        element.innerHTML = '';\n",
              "        dataTable['output_type'] = 'display_data';\n",
              "        await google.colab.output.renderOutput(dataTable, element);\n",
              "        const docLink = document.createElement('div');\n",
              "        docLink.innerHTML = docLinkHtml;\n",
              "        element.appendChild(docLink);\n",
              "      }\n",
              "    </script>\n",
              "  </div>\n",
              "\n",
              "\n",
              "<div id=\"df-f46ba586-ff85-442a-836b-9a2ce623888c\">\n",
              "  <button class=\"colab-df-quickchart\" onclick=\"quickchart('df-f46ba586-ff85-442a-836b-9a2ce623888c')\"\n",
              "            title=\"Suggest charts.\"\n",
              "            style=\"display:none;\">\n",
              "\n",
              "<svg xmlns=\"http://www.w3.org/2000/svg\" height=\"24px\"viewBox=\"0 0 24 24\"\n",
              "     width=\"24px\">\n",
              "    <g>\n",
              "        <path d=\"M19 3H5c-1.1 0-2 .9-2 2v14c0 1.1.9 2 2 2h14c1.1 0 2-.9 2-2V5c0-1.1-.9-2-2-2zM9 17H7v-7h2v7zm4 0h-2V7h2v10zm4 0h-2v-4h2v4z\"/>\n",
              "    </g>\n",
              "</svg>\n",
              "  </button>\n",
              "\n",
              "<style>\n",
              "  .colab-df-quickchart {\n",
              "      --bg-color: #E8F0FE;\n",
              "      --fill-color: #1967D2;\n",
              "      --hover-bg-color: #E2EBFA;\n",
              "      --hover-fill-color: #174EA6;\n",
              "      --disabled-fill-color: #AAA;\n",
              "      --disabled-bg-color: #DDD;\n",
              "  }\n",
              "\n",
              "  [theme=dark] .colab-df-quickchart {\n",
              "      --bg-color: #3B4455;\n",
              "      --fill-color: #D2E3FC;\n",
              "      --hover-bg-color: #434B5C;\n",
              "      --hover-fill-color: #FFFFFF;\n",
              "      --disabled-bg-color: #3B4455;\n",
              "      --disabled-fill-color: #666;\n",
              "  }\n",
              "\n",
              "  .colab-df-quickchart {\n",
              "    background-color: var(--bg-color);\n",
              "    border: none;\n",
              "    border-radius: 50%;\n",
              "    cursor: pointer;\n",
              "    display: none;\n",
              "    fill: var(--fill-color);\n",
              "    height: 32px;\n",
              "    padding: 0;\n",
              "    width: 32px;\n",
              "  }\n",
              "\n",
              "  .colab-df-quickchart:hover {\n",
              "    background-color: var(--hover-bg-color);\n",
              "    box-shadow: 0 1px 2px rgba(60, 64, 67, 0.3), 0 1px 3px 1px rgba(60, 64, 67, 0.15);\n",
              "    fill: var(--button-hover-fill-color);\n",
              "  }\n",
              "\n",
              "  .colab-df-quickchart-complete:disabled,\n",
              "  .colab-df-quickchart-complete:disabled:hover {\n",
              "    background-color: var(--disabled-bg-color);\n",
              "    fill: var(--disabled-fill-color);\n",
              "    box-shadow: none;\n",
              "  }\n",
              "\n",
              "  .colab-df-spinner {\n",
              "    border: 2px solid var(--fill-color);\n",
              "    border-color: transparent;\n",
              "    border-bottom-color: var(--fill-color);\n",
              "    animation:\n",
              "      spin 1s steps(1) infinite;\n",
              "  }\n",
              "\n",
              "  @keyframes spin {\n",
              "    0% {\n",
              "      border-color: transparent;\n",
              "      border-bottom-color: var(--fill-color);\n",
              "      border-left-color: var(--fill-color);\n",
              "    }\n",
              "    20% {\n",
              "      border-color: transparent;\n",
              "      border-left-color: var(--fill-color);\n",
              "      border-top-color: var(--fill-color);\n",
              "    }\n",
              "    30% {\n",
              "      border-color: transparent;\n",
              "      border-left-color: var(--fill-color);\n",
              "      border-top-color: var(--fill-color);\n",
              "      border-right-color: var(--fill-color);\n",
              "    }\n",
              "    40% {\n",
              "      border-color: transparent;\n",
              "      border-right-color: var(--fill-color);\n",
              "      border-top-color: var(--fill-color);\n",
              "    }\n",
              "    60% {\n",
              "      border-color: transparent;\n",
              "      border-right-color: var(--fill-color);\n",
              "    }\n",
              "    80% {\n",
              "      border-color: transparent;\n",
              "      border-right-color: var(--fill-color);\n",
              "      border-bottom-color: var(--fill-color);\n",
              "    }\n",
              "    90% {\n",
              "      border-color: transparent;\n",
              "      border-bottom-color: var(--fill-color);\n",
              "    }\n",
              "  }\n",
              "</style>\n",
              "\n",
              "  <script>\n",
              "    async function quickchart(key) {\n",
              "      const quickchartButtonEl =\n",
              "        document.querySelector('#' + key + ' button');\n",
              "      quickchartButtonEl.disabled = true;  // To prevent multiple clicks.\n",
              "      quickchartButtonEl.classList.add('colab-df-spinner');\n",
              "      try {\n",
              "        const charts = await google.colab.kernel.invokeFunction(\n",
              "            'suggestCharts', [key], {});\n",
              "      } catch (error) {\n",
              "        console.error('Error during call to suggestCharts:', error);\n",
              "      }\n",
              "      quickchartButtonEl.classList.remove('colab-df-spinner');\n",
              "      quickchartButtonEl.classList.add('colab-df-quickchart-complete');\n",
              "    }\n",
              "    (() => {\n",
              "      let quickchartButtonEl =\n",
              "        document.querySelector('#df-f46ba586-ff85-442a-836b-9a2ce623888c button');\n",
              "      quickchartButtonEl.style.display =\n",
              "        google.colab.kernel.accessAllowed ? 'block' : 'none';\n",
              "    })();\n",
              "  </script>\n",
              "</div>\n",
              "    </div>\n",
              "  </div>\n"
            ],
            "text/plain": [
              "  patientid  offset sex   age                   finding RT_PCR_positive  \\\n",
              "0         2     0.0   M  65.0  Pneumonia/Viral/COVID-19               Y   \n",
              "1         2     3.0   M  65.0  Pneumonia/Viral/COVID-19               Y   \n",
              "2         2     5.0   M  65.0  Pneumonia/Viral/COVID-19               Y   \n",
              "3         2     6.0   M  65.0  Pneumonia/Viral/COVID-19               Y   \n",
              "4         4     0.0   F  52.0  Pneumonia/Viral/COVID-19               Y   \n",
              "\n",
              "  survival intubated intubation_present went_icu  ...              date  \\\n",
              "0        Y         N                  N        N  ...  January 22, 2020   \n",
              "1        Y         N                  N        N  ...  January 25, 2020   \n",
              "2        Y         N                  N        N  ...  January 27, 2020   \n",
              "3        Y         N                  N        N  ...  January 28, 2020   \n",
              "4      NaN         N                  N        N  ...  January 25, 2020   \n",
              "\n",
              "                                            location  folder  \\\n",
              "0        Cho Ray Hospital, Ho Chi Minh City, Vietnam  images   \n",
              "1        Cho Ray Hospital, Ho Chi Minh City, Vietnam  images   \n",
              "2        Cho Ray Hospital, Ho Chi Minh City, Vietnam  images   \n",
              "3        Cho Ray Hospital, Ho Chi Minh City, Vietnam  images   \n",
              "4  Changhua Christian Hospital, Changhua City, Ta...  images   \n",
              "\n",
              "                                            filename                   doi  \\\n",
              "0  auntminnie-a-2020_01_28_23_51_6665_2020_01_28_...  10.1056/nejmc2001272   \n",
              "1  auntminnie-b-2020_01_28_23_51_6665_2020_01_28_...  10.1056/nejmc2001272   \n",
              "2  auntminnie-c-2020_01_28_23_51_6665_2020_01_28_...  10.1056/nejmc2001272   \n",
              "3  auntminnie-d-2020_01_28_23_51_6665_2020_01_28_...  10.1056/nejmc2001272   \n",
              "4                              nejmc2001573_f1a.jpeg  10.1056/NEJMc2001573   \n",
              "\n",
              "                                                 url  license  \\\n",
              "0  https://www.nejm.org/doi/full/10.1056/NEJMc200...      NaN   \n",
              "1  https://www.nejm.org/doi/full/10.1056/NEJMc200...      NaN   \n",
              "2  https://www.nejm.org/doi/full/10.1056/NEJMc200...      NaN   \n",
              "3  https://www.nejm.org/doi/full/10.1056/NEJMc200...      NaN   \n",
              "4  https://www.nejm.org/doi/full/10.1056/NEJMc200...      NaN   \n",
              "\n",
              "                                      clinical_notes other_notes Unnamed: 29  \n",
              "0  On January 22, 2020, a 65-year-old man with a ...         NaN         NaN  \n",
              "1  On January 22, 2020, a 65-year-old man with a ...         NaN         NaN  \n",
              "2  On January 22, 2020, a 65-year-old man with a ...         NaN         NaN  \n",
              "3  On January 22, 2020, a 65-year-old man with a ...         NaN         NaN  \n",
              "4   diffuse infiltrates in the bilateral lower lungs         NaN         NaN  \n",
              "\n",
              "[5 rows x 30 columns]"
            ]
          },
          "execution_count": 4,
          "metadata": {},
          "output_type": "execute_result"
        }
      ],
      "source": [
        "import pandas as pd\n",
        "\n",
        "data = pd.read_csv('/content/covid-chestxray-dataset/metadata.csv') # arquivo com as informações sobre as imagens\n",
        "data.head()"
      ]
    },
    {
      "cell_type": "code",
      "execution_count": null,
      "metadata": {
        "colab": {
          "base_uri": "https://localhost:8080/"
        },
        "id": "EDnRCF6sgBUh",
        "outputId": "319ccf4a-dba5-4eef-98fc-6ba22259ce88"
      },
      "outputs": [
        {
          "name": "stdout",
          "output_type": "stream",
          "text": [
            "Index(['patientid', 'offset', 'sex', 'age', 'finding', 'RT_PCR_positive',\n",
            "       'survival', 'intubated', 'intubation_present', 'went_icu', 'in_icu',\n",
            "       'needed_supplemental_O2', 'extubated', 'temperature', 'pO2_saturation',\n",
            "       'leukocyte_count', 'neutrophil_count', 'lymphocyte_count', 'view',\n",
            "       'modality', 'date', 'location', 'folder', 'filename', 'doi', 'url',\n",
            "       'license', 'clinical_notes', 'other_notes', 'Unnamed: 29'],\n",
            "      dtype='object')\n"
          ]
        }
      ],
      "source": [
        "#colunas\n",
        "column_names = data.columns\n",
        "print(column_names)"
      ]
    },
    {
      "cell_type": "code",
      "execution_count": null,
      "metadata": {
        "colab": {
          "base_uri": "https://localhost:8080/"
        },
        "id": "6sb001svmOiS",
        "outputId": "7105892d-c659-41fd-c90f-441c6aec64e3"
      },
      "outputs": [
        {
          "name": "stdout",
          "output_type": "stream",
          "text": [
            "['images' 'volumes']\n"
          ]
        }
      ],
      "source": [
        "# Coluna folder:\n",
        "categories = data['folder'].unique()\n",
        "print(categories)"
      ]
    },
    {
      "cell_type": "code",
      "execution_count": null,
      "metadata": {
        "colab": {
          "base_uri": "https://localhost:8080/"
        },
        "id": "Dl5Wqu6qldbG",
        "outputId": "b51461bb-8999-4c80-e4de-68b6509909ee"
      },
      "outputs": [
        {
          "name": "stdout",
          "output_type": "stream",
          "text": [
            "['Pneumonia/Viral/COVID-19' 'Pneumonia' 'Pneumonia/Viral/SARS'\n",
            " 'Pneumonia/Fungal/Pneumocystis' 'Pneumonia/Bacterial/Streptococcus'\n",
            " 'No Finding' 'Pneumonia/Bacterial/Chlamydophila'\n",
            " 'Pneumonia/Bacterial/E.Coli' 'Pneumonia/Bacterial/Klebsiella'\n",
            " 'Pneumonia/Bacterial/Legionella' 'Unknown' 'Pneumonia/Lipoid'\n",
            " 'Pneumonia/Viral/Varicella' 'Pneumonia/Bacterial'\n",
            " 'Pneumonia/Bacterial/Mycoplasma' 'Pneumonia/Viral/Influenza' 'todo'\n",
            " 'Tuberculosis' 'Pneumonia/Viral/Influenza/H1N1'\n",
            " 'Pneumonia/Fungal/Aspergillosis' 'Pneumonia/Viral/Herpes '\n",
            " 'Pneumonia/Aspiration' 'Pneumonia/Bacterial/Nocardia'\n",
            " 'Pneumonia/Viral/MERS-CoV' 'Pneumonia/Bacterial/Staphylococcus/MRSA']\n"
          ]
        }
      ],
      "source": [
        "# Coluna finding:\n",
        "categories = data['finding'].unique()\n",
        "print(categories)"
      ]
    },
    {
      "cell_type": "code",
      "execution_count": null,
      "metadata": {
        "colab": {
          "base_uri": "https://localhost:8080/"
        },
        "id": "sF7N2E7NmFyo",
        "outputId": "00366802-eb66-4bee-d1da-099563088adf"
      },
      "outputs": [
        {
          "name": "stdout",
          "output_type": "stream",
          "text": [
            "['X-ray' 'CT']\n"
          ]
        }
      ],
      "source": [
        "# Coluna modality:\n",
        "categories = data['modality'].unique()\n",
        "print(categories)"
      ]
    },
    {
      "cell_type": "code",
      "execution_count": null,
      "metadata": {
        "colab": {
          "base_uri": "https://localhost:8080/"
        },
        "id": "QPcUn07ffOb0",
        "outputId": "90d77ee4-80a9-4b59-9a47-2460ace0f010"
      },
      "outputs": [
        {
          "name": "stdout",
          "output_type": "stream",
          "text": [
            "Número de imagens filtradas como COVID-19:  584\n"
          ]
        }
      ],
      "source": [
        "covid_images = data[data['finding'] == 'Pneumonia/Viral/COVID-19']['filename'] # filtrando as imagens que são classificadas como COVID-19.\n",
        "print(\"Número de imagens filtradas como COVID-19: \", len(covid_images))"
      ]
    },
    {
      "cell_type": "code",
      "execution_count": null,
      "metadata": {
        "colab": {
          "base_uri": "https://localhost:8080/"
        },
        "id": "nthafBw2j_iy",
        "outputId": "21ed4beb-7059-46a6-8ea7-076020275c07"
      },
      "outputs": [
        {
          "name": "stdout",
          "output_type": "stream",
          "text": [
            "Número de imagens de raio-X filtradas como COVID-19:  504\n"
          ]
        }
      ],
      "source": [
        "# Filtrar apenas as linhas onde 'finding' é 'COVID-19' e 'modality' é 'X-ray':\n",
        "covid_xray_images = data[(data['finding'] == 'Pneumonia/Viral/COVID-19') & (data['modality'] == 'X-ray')]['filename']\n",
        "print(\"Número de imagens de raio-X filtradas como COVID-19: \", len(covid_xray_images))"
      ]
    },
    {
      "cell_type": "code",
      "execution_count": null,
      "metadata": {
        "colab": {
          "base_uri": "https://localhost:8080/"
        },
        "id": "67hVLbFXrXnU",
        "outputId": "69c41162-7c31-412d-b955-743c1ea2bfd8"
      },
      "outputs": [
        {
          "name": "stdout",
          "output_type": "stream",
          "text": [
            "Número de imagens de raio-X filtradas como COVID-19:  504\n"
          ]
        }
      ],
      "source": [
        "# Filtrar apenas as linhas onde 'finding' é 'COVID-19', 'modality' é 'X-ray', e 'folder' é 'images'\n",
        "covid_xray_images = data[(data['finding'] == 'Pneumonia/Viral/COVID-19') & (data['modality'] == 'X-ray') & (data['folder'] == 'images')]['filename']\n",
        "\n",
        "print(\"Número de imagens de raio-X filtradas como COVID-19: \", len(covid_xray_images))"
      ]
    },
    {
      "cell_type": "code",
      "execution_count": null,
      "metadata": {
        "colab": {
          "base_uri": "https://localhost:8080/"
        },
        "id": "2KlBJtypgkbP",
        "outputId": "d169d2f0-72d1-4ae8-da8c-958ffd164674"
      },
      "outputs": [
        {
          "name": "stdout",
          "output_type": "stream",
          "text": [
            "PA           196\n",
            "AP           146\n",
            "AP Supine    136\n",
            "Axial         64\n",
            "L             26\n",
            "Coronal       16\n",
            "Name: view, dtype: int64\n"
          ]
        }
      ],
      "source": [
        "# visão:\n",
        "covid_data = data[data['finding'] == 'Pneumonia/Viral/COVID-19']\n",
        "view_counts = covid_data['view'].value_counts()\n",
        "print(view_counts)"
      ]
    },
    {
      "cell_type": "markdown",
      "metadata": {
        "id": "TU6sEwI1hcyh"
      },
      "source": [
        "- **PA (Póstero-Anterior)**: Esta é uma incidência padrão em radiografias de tórax onde o feixe de raios-X passa de trás (posterior) para a frente (anterior) do paciente. O paciente está de pé, de frente para o filme ou detector de raios-X, e o feixe de raios-X é disparado para as costas do paciente¹².\n",
        "\n",
        "- **AP (Antero-Posterior)**: Esta é a incidência oposta à PA, onde o feixe de raios-X passa da frente (anterior) para trás (posterior) do paciente. Geralmente é usada quando o paciente não consegue ficar em pé para uma incidência PA, como em exames de leito ou em pacientes muito doentes¹.\n",
        "\n",
        "- **AP Supine**: Esta é uma variação da vista AP onde o paciente está deitado de costas (ou seja, em posição supina). É comumente usada em exames de emergência quando o paciente não consegue ficar em pé ou sentar-se.\n",
        "\n",
        "- **Axial**: Esta é uma vista tomada ao longo do eixo do corpo. Em uma tomografia computadorizada (TC), por exemplo, as imagens axiais são obtidas enquanto o paciente está deitado e a máquina gira ao redor do paciente.\n",
        "\n",
        "- **L**: Esta pode ser uma abreviação para uma vista lateral, que é uma vista tomada do lado do paciente. Em uma vista lateral padrão do tórax, o paciente está de pé de lado e o feixe de raios-X passa de um lado para o outro.\n",
        "\n",
        "- **Coronal**: Esta é uma vista que divide o corpo em partes anterior e posterior. As imagens coronais são comumente vistas em exames de ressonância magnética (MRI) ou tomografia computadorizada (CT).\n"
      ]
    },
    {
      "cell_type": "code",
      "execution_count": null,
      "metadata": {
        "colab": {
          "base_uri": "https://localhost:8080/"
        },
        "id": "WCCfKqavmUzN",
        "outputId": "d0800393-2ddc-4365-dc78-7f4edcc74992"
      },
      "outputs": [
        {
          "name": "stdout",
          "output_type": "stream",
          "text": [
            "Directory /content/drive/MyDrive/CNN_COVID/dados_fonte/covid_total/ does not exist. Creating now.\n"
          ]
        }
      ],
      "source": [
        "destination_directory = '/content/drive/MyDrive/CNN_COVID/dados_fonte/covid_total/'\n",
        "\n",
        "# Verifique se o diretório de destino existe\n",
        "if not os.path.exists(destination_directory):\n",
        "    print(f\"Directory {destination_directory} does not exist. Creating now.\")\n",
        "    os.makedirs(destination_directory)\n",
        "else:\n",
        "    print(f\"Directory {destination_directory} exists!\")"
      ]
    },
    {
      "cell_type": "code",
      "execution_count": null,
      "metadata": {
        "id": "EvvWJ5-s5SU6"
      },
      "outputs": [],
      "source": [
        "import hashlib\n",
        "import os\n",
        "import shutil\n",
        "import pandas as pd\n",
        "from google.colab import drive\n",
        "\n",
        "def calculate_md5(file_path):\n",
        "    hasher = hashlib.md5()\n",
        "    with open(file_path, 'rb') as f:\n",
        "        buf = f.read()\n",
        "        hasher.update(buf)\n",
        "    return hasher.hexdigest()\n",
        "\n",
        "def is_duplicate_image(source_image_path, destination_directory):\n",
        "    source_hash = calculate_md5(source_image_path)\n",
        "\n",
        "    for image_name in os.listdir(destination_directory):\n",
        "        dest_image_path = os.path.join(destination_directory, image_name)\n",
        "        dest_hash = calculate_md5(dest_image_path)\n",
        "\n",
        "        if source_hash == dest_hash:\n",
        "            return True\n",
        "\n",
        "    return False"
      ]
    },
    {
      "cell_type": "code",
      "execution_count": null,
      "metadata": {
        "id": "XEA4luzzhdG4"
      },
      "outputs": [],
      "source": [
        "# Salvando as imagens:\n",
        "import shutil\n",
        "for image in covid_xray_images:\n",
        "    source_path = '/content/covid-chestxray-dataset/images/' + image\n",
        "    dest_path = '/content/drive/MyDrive/CNN_COVID/dados_fonte/covid_total/' + image\n",
        "\n",
        "    if not is_duplicate_image(source_path, destination_directory):\n",
        "        shutil.copy(source_path, dest_path)"
      ]
    },
    {
      "cell_type": "code",
      "execution_count": null,
      "metadata": {
        "colab": {
          "base_uri": "https://localhost:8080/"
        },
        "id": "tYAPVzrChvr2",
        "outputId": "dba4dde4-c627-4d0d-f0d9-69c466dfbf4c"
      },
      "outputs": [
        {
          "name": "stdout",
          "output_type": "stream",
          "text": [
            "Número de imagens no diretório:  504\n"
          ]
        }
      ],
      "source": [
        "# Contando quantas imagens ficarão depois de salvar:\n",
        "\n",
        "import os\n",
        "\n",
        "# Caminho do diretório\n",
        "dir_path = '/content/drive/MyDrive/CNN_COVID/dados_fonte/covid_total/'\n",
        "\n",
        "# Lista de todos os arquivos no diretório\n",
        "files = os.listdir(dir_path)\n",
        "\n",
        "# Número de arquivos no diretório\n",
        "num_files = len(files)\n",
        "\n",
        "print(\"Número de imagens no diretório: \", num_files)"
      ]
    },
    {
      "cell_type": "markdown",
      "metadata": {
        "id": "Ghod7W1X8QIH"
      },
      "source": [
        "# Transfer-Learning-COVID-19-master\n",
        "tem a pasta dataset_3_classes e dentro dela mais duas, test e train, com normal, covid e pneumonia_bac\n",
        "\n",
        "79 imagens como normal\n",
        "\n",
        "69 imagens como covid"
      ]
    },
    {
      "cell_type": "markdown",
      "metadata": {
        "id": "jXdbwf8aPE4i"
      },
      "source": [
        "https://github.com/vj2050/Transfer-Learning-COVID-19/tree/master"
      ]
    },
    {
      "cell_type": "code",
      "execution_count": null,
      "metadata": {
        "colab": {
          "base_uri": "https://localhost:8080/"
        },
        "id": "AV3h6g4zuZ5m",
        "outputId": "db20e78d-4200-4aad-9b79-7691a5ccd430"
      },
      "outputs": [
        {
          "name": "stdout",
          "output_type": "stream",
          "text": [
            "Cloning into 'Transfer-Learning-COVID-19'...\n",
            "remote: Enumerating objects: 360, done.\u001b[K\n",
            "remote: Counting objects: 100% (37/37), done.\u001b[K\n",
            "remote: Compressing objects: 100% (32/32), done.\u001b[K\n",
            "remote: Total 360 (delta 14), reused 24 (delta 5), pack-reused 323\u001b[K\n",
            "Receiving objects: 100% (360/360), 82.79 MiB | 22.87 MiB/s, done.\n",
            "Resolving deltas: 100% (14/14), done.\n",
            "Updating files: 100% (542/542), done.\n"
          ]
        }
      ],
      "source": [
        "!git clone https://github.com/vj2050/Transfer-Learning-COVID-19.git"
      ]
    },
    {
      "cell_type": "code",
      "execution_count": null,
      "metadata": {
        "id": "-5ApXAAw9Mej"
      },
      "outputs": [],
      "source": [
        "# Caminhos das pastas de origem\n",
        "covid_paths = ['/content/Transfer-Learning-COVID-19/dataset_3_classes/train/covid',\n",
        "               '/content/Transfer-Learning-COVID-19/dataset_3_classes/test/covid']\n",
        "normal_paths = ['/content/Transfer-Learning-COVID-19/dataset_3_classes/train/normal',\n",
        "                '/content/Transfer-Learning-COVID-19/dataset_3_classes/test/normal']"
      ]
    },
    {
      "cell_type": "code",
      "execution_count": null,
      "metadata": {
        "id": "Gd11cm5Outf0"
      },
      "outputs": [],
      "source": [
        "# Caminho das pastas de destino:\n",
        "covid_dest = '/content/drive/MyDrive/CNN_COVID/dados_fonte/covid_total/'\n",
        "normal_dest = '/content/drive/MyDrive/CNN_COVID/dados_fonte/normal_total/'"
      ]
    },
    {
      "cell_type": "code",
      "execution_count": null,
      "metadata": {
        "id": "Qk11ySPvu0xz"
      },
      "outputs": [],
      "source": [
        "# Copiar as imagens de COVID-19\n",
        "for path in covid_paths:\n",
        "    images = os.listdir(path)\n",
        "    for image in images:\n",
        "        source_path = os.path.join(path, image)\n",
        "        dest_path = os.path.join(covid_dest, image)\n",
        "\n",
        "        if not is_duplicate_image(source_path, covid_dest):\n",
        "            shutil.copy(source_path, dest_path)"
      ]
    },
    {
      "cell_type": "code",
      "execution_count": null,
      "metadata": {
        "colab": {
          "base_uri": "https://localhost:8080/"
        },
        "id": "9S_Cu4e8zkV8",
        "outputId": "7a6b83f0-49aa-41f9-a254-41800c9117a3"
      },
      "outputs": [
        {
          "name": "stdout",
          "output_type": "stream",
          "text": [
            "Número de imagens no diretório de destino (covid): 505\n"
          ]
        }
      ],
      "source": [
        "# Verificar quantas imagens foram copiadas para covid_dest\n",
        "print(f\"Número de imagens no diretório de destino (covid): {len(os.listdir(covid_dest))}\")"
      ]
    },
    {
      "cell_type": "code",
      "execution_count": null,
      "metadata": {
        "colab": {
          "base_uri": "https://localhost:8080/"
        },
        "id": "Jp9mlUQXmvcQ",
        "outputId": "d6479169-6d41-45e2-e4d6-8878c13273e9"
      },
      "outputs": [
        {
          "name": "stdout",
          "output_type": "stream",
          "text": [
            "Directory /content/drive/MyDrive/CNN_COVID/dados_fonte/normal_total/ does not exist. Creating now.\n"
          ]
        }
      ],
      "source": [
        "destination_directory = '/content/drive/MyDrive/CNN_COVID/dados_fonte/normal_total/'\n",
        "\n",
        "# Verifique se o diretório de destino existe\n",
        "if not os.path.exists(destination_directory):\n",
        "    print(f\"Directory {destination_directory} does not exist. Creating now.\")\n",
        "    os.makedirs(destination_directory)\n",
        "else:\n",
        "    print(f\"Directory {destination_directory} exists!\")"
      ]
    },
    {
      "cell_type": "code",
      "execution_count": null,
      "metadata": {
        "colab": {
          "base_uri": "https://localhost:8080/"
        },
        "id": "kSEDQCQ7uuBL",
        "outputId": "5a171bec-f9b9-4b43-a125-fe48ae73f0bb"
      },
      "outputs": [
        {
          "name": "stdout",
          "output_type": "stream",
          "text": [
            "Copiando 70 imagens de /content/Transfer-Learning-COVID-19/dataset_3_classes/train/normal\n",
            "Copiando 9 imagens de /content/Transfer-Learning-COVID-19/dataset_3_classes/test/normal\n"
          ]
        }
      ],
      "source": [
        "# Copiar as imagens normais\n",
        "for path in normal_paths:\n",
        "    images = os.listdir(path)\n",
        "    print(f\"Copiando {len(images)} imagens de {path}\")\n",
        "    for image in images:\n",
        "        shutil.copy(os.path.join(path, image), os.path.join(normal_dest, image))"
      ]
    },
    {
      "cell_type": "code",
      "execution_count": null,
      "metadata": {
        "colab": {
          "base_uri": "https://localhost:8080/"
        },
        "id": "Vi0a3F4vm23Q",
        "outputId": "5319e1e1-c826-4c20-ce9e-1a23ba11a4c2"
      },
      "outputs": [
        {
          "name": "stdout",
          "output_type": "stream",
          "text": [
            "Número de imagens no diretório de destino (covid): 505\n"
          ]
        }
      ],
      "source": [
        "# Verificar quantas imagens foram copiadas para covid_dest\n",
        "print(f\"Número de imagens no diretório de destino (covid): {len(os.listdir(covid_dest))}\")"
      ]
    },
    {
      "cell_type": "code",
      "execution_count": null,
      "metadata": {
        "colab": {
          "base_uri": "https://localhost:8080/"
        },
        "id": "op2kjnBCm3Yx",
        "outputId": "1496ce24-a815-462a-8a10-06bc6767428e"
      },
      "outputs": [
        {
          "name": "stdout",
          "output_type": "stream",
          "text": [
            "Número de imagens no diretório de destino normal: 79\n"
          ]
        }
      ],
      "source": [
        "# Verificar quantas imagens foram copiadas para covid_dest\n",
        "print(f\"Número de imagens no diretório de destino normal: {len(os.listdir(normal_dest))}\")"
      ]
    },
    {
      "cell_type": "markdown",
      "metadata": {
        "id": "VK49L_wX04OB"
      },
      "source": [
        "# **chest_xray**\n",
        "tem 3 pastas: test, train e val --> dentro delas tem NORMAL E PNEUMONIA, vou retirar somente as normais, contar o total e depois divir em 2 pastas 80/20\n",
        "\n",
        "1.583 imagens normais.\n",
        "\n",
        "https://www.kaggle.com/datasets/paultimothymooney/chest-xray-pneumonia"
      ]
    },
    {
      "cell_type": "code",
      "execution_count": null,
      "metadata": {
        "id": "vHcjD1VIfczC"
      },
      "outputs": [],
      "source": [
        "import os\n",
        "import shutil"
      ]
    },
    {
      "cell_type": "code",
      "execution_count": null,
      "metadata": {
        "colab": {
          "background_save": true
        },
        "id": "MLHxTgGfPFSp",
        "outputId": "bd002a3d-a753-40b3-8443-2a806044f4e8"
      },
      "outputs": [
        {
          "name": "stdout",
          "output_type": "stream",
          "text": [
            "Foram copiadas 1502 imagens do diretório '/content/drive/MyDrive/CNN_COVID/dados_fonte/chest_xray'.\n"
          ]
        }
      ],
      "source": [
        "# Defina o caminho para o seu diretório do Kaggle\n",
        "kaggle_dir = '/content/drive/MyDrive/CNN_COVID/dados_fonte/chest_xray'\n",
        "\n",
        "# Defina o caminho para o seu diretório do Google Drive\n",
        "drive_dir = '/content/drive/MyDrive/CNN_COVID/dados_fonte/normal_total/'\n",
        "\n",
        "# Lista das pastas que você mencionou\n",
        "folders = ['test', 'train', 'val']\n",
        "\n",
        "# Contador para as imagens copiadas\n",
        "copied_images = 0\n",
        "\n",
        "for folder in folders:\n",
        "    normal_dir = os.path.join(kaggle_dir, folder, 'NORMAL')\n",
        "    if os.path.exists(normal_dir):\n",
        "        images = os.listdir(normal_dir)\n",
        "        for image in images:\n",
        "            source_path = os.path.join(normal_dir, image)\n",
        "            dest_path = os.path.join(drive_dir, image)\n",
        "\n",
        "            if not is_duplicate_image(source_path, drive_dir):\n",
        "                shutil.copy(source_path, dest_path)\n",
        "                copied_images += 1\n",
        "\n",
        "print(f\"Foram copiadas {copied_images} imagens do diretório '/content/drive/MyDrive/CNN_COVID/dados_fonte/chest_xray'.\")"
      ]
    },
    {
      "cell_type": "code",
      "execution_count": null,
      "metadata": {
        "colab": {
          "background_save": true
        },
        "id": "tzzE8hYSfqM3",
        "outputId": "11808a55-443c-4864-fa92-065735ef29ab"
      },
      "outputs": [
        {
          "name": "stdout",
          "output_type": "stream",
          "text": [
            "Há 1580 imagens na pasta.\n"
          ]
        }
      ],
      "source": [
        "# Conferindo o total:\n",
        "\n",
        "# Defina o caminho para o seu diretório do Google Drive\n",
        "drive_dir = '/content/drive/MyDrive/CNN_COVID/dados_fonte/normal_total/'\n",
        "# Lista de todas as imagens na pasta\n",
        "images = os.listdir(drive_dir)\n",
        "\n",
        "# Conta o número de imagens\n",
        "num_images = len(images)\n",
        "\n",
        "print(f\"Há {num_images} imagens na pasta.\")"
      ]
    },
    {
      "cell_type": "code",
      "execution_count": null,
      "metadata": {
        "colab": {
          "background_save": true
        },
        "id": "iszF888VgI9W",
        "outputId": "74fc0887-f5f2-42e3-e188-5017a2625d82"
      },
      "outputs": [
        {
          "name": "stdout",
          "output_type": "stream",
          "text": [
            "Há 505 imagens na pasta.\n"
          ]
        }
      ],
      "source": [
        "drive_dir = '/content/drive/MyDrive/CNN_COVID/dados_fonte/covid_total/'\n",
        "# Lista de todas as imagens na pasta\n",
        "images = os.listdir(drive_dir)\n",
        "\n",
        "# Conta o número de imagens\n",
        "num_images = len(images)\n",
        "\n",
        "print(f\"Há {num_images} imagens na pasta.\")"
      ]
    },
    {
      "cell_type": "markdown",
      "metadata": {
        "id": "Q8xrDiFhnZPu"
      },
      "source": [
        "# Total\n",
        "No final tem que ter **573 imagens de covid** e 1.662 imagens normais"
      ]
    },
    {
      "cell_type": "code",
      "execution_count": null,
      "metadata": {
        "colab": {
          "background_save": true
        },
        "id": "RcfG9bAb8Pzw",
        "outputId": "d3fe86c5-a91f-41d9-8be3-4d75e0c88e74"
      },
      "outputs": [
        {
          "name": "stdout",
          "output_type": "stream",
          "text": [
            "Número de imagens no diretório de destino normal: 1580\n",
            "Número de imagens no diretório de destino covid: 505\n"
          ]
        }
      ],
      "source": [
        "print(f\"Número de imagens no diretório de destino normal: {len(os.listdir(normal_dest))}\")\n",
        "print(f\"Número de imagens no diretório de destino covid: {len(os.listdir(covid_dest))}\")"
      ]
    },
    {
      "cell_type": "markdown",
      "metadata": {
        "id": "CarEkb-Ckj-M"
      },
      "source": [
        "Se os valores não baterem, ver se é comando que não deixa baixar duplicidade"
      ]
    }
  ],
  "metadata": {
    "colab": {
      "provenance": []
    },
    "kernelspec": {
      "display_name": "Python 3",
      "name": "python3"
    },
    "language_info": {
      "name": "python"
    }
  },
  "nbformat": 4,
  "nbformat_minor": 0
}