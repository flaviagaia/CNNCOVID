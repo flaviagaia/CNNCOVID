{
  "nbformat": 4,
  "nbformat_minor": 0,
  "metadata": {
    "colab": {
      "provenance": []
    },
    "kernelspec": {
      "name": "python3",
      "display_name": "Python 3"
    },
    "language_info": {
      "name": "python"
    },
    "accelerator": "GPU",
    "gpuClass": "standard"
  },
  "cells": [
    {
      "cell_type": "markdown",
      "source": [
        "# CNN\n"
      ],
      "metadata": {
        "id": "mVg2mbCOyCHI"
      }
    },
    {
      "cell_type": "code",
      "execution_count": 5,
      "metadata": {
        "id": "b84MGWY5ZbrA"
      },
      "outputs": [],
      "source": [
        "# Bibliotecas:\n",
        "import tensorflow as tf\n",
        "from tensorflow.keras.preprocessing.image import ImageDataGenerator\n",
        "import matplotlib.pyplot as plt\n",
        "import numpy as np\n",
        "from tensorflow.keras.preprocessing import image\n",
        "from sklearn.metrics import confusion_matrix\n",
        "import seaborn as sns\n",
        "from sklearn.metrics import classification_report\n",
        "from tensorflow.keras.callbacks import TensorBoard"
      ]
    },
    {
      "cell_type": "code",
      "source": [
        "# Montagem do Google Drive:\n",
        "from google.colab import drive\n",
        "drive.mount('/content/drive')"
      ],
      "metadata": {
        "id": "ZES-0rcTYvDu",
        "outputId": "b1bbf890-a599-4627-a66f-b9bb4c78308c",
        "colab": {
          "base_uri": "https://localhost:8080/"
        }
      },
      "execution_count": 6,
      "outputs": [
        {
          "output_type": "stream",
          "name": "stdout",
          "text": [
            "Drive already mounted at /content/drive; to attempt to forcibly remount, call drive.mount(\"/content/drive\", force_remount=True).\n"
          ]
        }
      ]
    },
    {
      "cell_type": "code",
      "source": [
        "# Construção do modelo:\n",
        "classifier = tf.keras.models.Sequential()\n",
        "\n",
        "classifier.add(tf.keras.layers.Convolution2D(filters=32, kernel_size=3, padding=\"same\", input_shape=(64, 64, 3),\n",
        "                                             activation='relu'))\n",
        "\n",
        "classifier.add(tf.keras.layers.MaxPooling2D(pool_size=2, strides=2, padding='valid'))\n",
        "\n",
        "classifier.add(tf.keras.layers.Convolution2D(filters=64, kernel_size=3, padding=\"same\", activation=\"relu\"))\n",
        "classifier.add(tf.keras.layers.MaxPooling2D(pool_size=2, strides=2, padding='valid'))\n",
        "\n",
        "classifier.add(tf.keras.layers.Flatten())\n",
        "\n",
        "classifier.add(tf.keras.layers.Dense(units=128, activation='relu'))\n",
        "classifier.add(tf.keras.layers.Dense(units=1, activation='sigmoid'))\n",
        "\n",
        "# Compilação do modelo:\n",
        "classifier.compile(optimizer='adam', loss='binary_crossentropy', metrics=['accuracy'])\n",
        "classifier.summary()"
      ],
      "metadata": {
        "colab": {
          "base_uri": "https://localhost:8080/"
        },
        "id": "gjwvOkwpZrZQ",
        "outputId": "acacea66-3ff7-4851-ed91-5ce39eaf7d50"
      },
      "execution_count": 7,
      "outputs": [
        {
          "output_type": "stream",
          "name": "stdout",
          "text": [
            "Model: \"sequential_1\"\n",
            "_________________________________________________________________\n",
            " Layer (type)                Output Shape              Param #   \n",
            "=================================================================\n",
            " conv2d_2 (Conv2D)           (None, 64, 64, 32)        896       \n",
            "                                                                 \n",
            " max_pooling2d_2 (MaxPoolin  (None, 32, 32, 32)        0         \n",
            " g2D)                                                            \n",
            "                                                                 \n",
            " conv2d_3 (Conv2D)           (None, 32, 32, 64)        18496     \n",
            "                                                                 \n",
            " max_pooling2d_3 (MaxPoolin  (None, 16, 16, 64)        0         \n",
            " g2D)                                                            \n",
            "                                                                 \n",
            " flatten_1 (Flatten)         (None, 16384)             0         \n",
            "                                                                 \n",
            " dense_2 (Dense)             (None, 128)               2097280   \n",
            "                                                                 \n",
            " dense_3 (Dense)             (None, 1)                 129       \n",
            "                                                                 \n",
            "=================================================================\n",
            "Total params: 2116801 (8.07 MB)\n",
            "Trainable params: 2116801 (8.07 MB)\n",
            "Non-trainable params: 0 (0.00 Byte)\n",
            "_________________________________________________________________\n"
          ]
        }
      ]
    },
    {
      "cell_type": "code",
      "source": [
        "# Preparação dos dados:\n",
        "train_datagen = ImageDataGenerator(rescale=1. / 255,\n",
        "                                   shear_range=0.2,\n",
        "                                   zoom_range=0.2,\n",
        "                                   horizontal_flip=True)\n",
        "\n",
        "test_datagen = ImageDataGenerator(rescale=1. / 255)\n",
        "\n",
        "training_set = train_datagen.flow_from_directory('/content/drive/MyDrive/CNN_COVID/Data/train',\n",
        "                                                 target_size=(64, 64),\n",
        "                                                 batch_size=32,\n",
        "                                                 class_mode='binary')\n",
        "\n",
        "test_set = test_datagen.flow_from_directory('/content/drive/MyDrive/CNN_COVID/Data/test',\n",
        "                                            target_size=(64, 64),\n",
        "                                            batch_size=32,\n",
        "                                            class_mode='binary')"
      ],
      "metadata": {
        "id": "jyfGc3jPZvcD",
        "colab": {
          "base_uri": "https://localhost:8080/"
        },
        "outputId": "d5dbf10c-1e0f-4dbd-bc23-e9e62bcf0296"
      },
      "execution_count": 8,
      "outputs": [
        {
          "output_type": "stream",
          "name": "stdout",
          "text": [
            "Found 378 images belonging to 2 classes.\n",
            "Found 163 images belonging to 2 classes.\n"
          ]
        }
      ]
    },
    {
      "cell_type": "code",
      "source": [
        "# Treinamento do modelo:\n",
        "history = classifier.fit(training_set,\n",
        "                         steps_per_epoch=4,\n",
        "                         epochs=10,\n",
        "                         validation_data=test_set,\n",
        "                         validation_steps=4)"
      ],
      "metadata": {
        "id": "CEa4ZkvqZ7hc",
        "colab": {
          "base_uri": "https://localhost:8080/"
        },
        "outputId": "f93aee80-fd64-405a-827e-0cd47ac93941"
      },
      "execution_count": 9,
      "outputs": [
        {
          "output_type": "stream",
          "name": "stdout",
          "text": [
            "Epoch 1/10\n",
            "4/4 [==============================] - 109s 32s/step - loss: 0.5661 - accuracy: 0.6641 - val_loss: 0.4167 - val_accuracy: 0.8438\n",
            "Epoch 2/10\n",
            "4/4 [==============================] - 12s 4s/step - loss: 0.3873 - accuracy: 0.8594 - val_loss: 0.3794 - val_accuracy: 0.8438\n",
            "Epoch 3/10\n",
            "4/4 [==============================] - 15s 5s/step - loss: 0.3825 - accuracy: 0.8279 - val_loss: 0.3088 - val_accuracy: 0.8438\n",
            "Epoch 4/10\n",
            "4/4 [==============================] - 12s 3s/step - loss: 0.2700 - accuracy: 0.8906 - val_loss: 0.2373 - val_accuracy: 0.8672\n",
            "Epoch 5/10\n",
            "4/4 [==============================] - 10s 3s/step - loss: 0.2132 - accuracy: 0.9219 - val_loss: 0.1608 - val_accuracy: 0.9609\n",
            "Epoch 6/10\n",
            "4/4 [==============================] - 13s 4s/step - loss: 0.1946 - accuracy: 0.9453 - val_loss: 0.1502 - val_accuracy: 0.9531\n",
            "Epoch 7/10\n",
            "4/4 [==============================] - 9s 3s/step - loss: 0.0628 - accuracy: 0.9922 - val_loss: 0.1133 - val_accuracy: 0.9453\n",
            "Epoch 8/10\n",
            "4/4 [==============================] - 9s 3s/step - loss: 0.0874 - accuracy: 0.9531 - val_loss: 0.1464 - val_accuracy: 0.9453\n",
            "Epoch 9/10\n",
            "4/4 [==============================] - 13s 4s/step - loss: 0.1910 - accuracy: 0.9426 - val_loss: 0.0551 - val_accuracy: 0.9766\n",
            "Epoch 10/10\n",
            "4/4 [==============================] - 8s 2s/step - loss: 0.1590 - accuracy: 0.9531 - val_loss: 0.0511 - val_accuracy: 0.9766\n"
          ]
        }
      ]
    },
    {
      "cell_type": "code",
      "source": [
        "# Salvando o modelo:\n",
        "classifier.save('/content/drive/MyDrive/CNN_COVID/meu_modelo2.h5')"
      ],
      "metadata": {
        "id": "ap0MMru6Z_h_",
        "colab": {
          "base_uri": "https://localhost:8080/"
        },
        "outputId": "00807c89-69be-420b-b197-4b07b53bd3f9"
      },
      "execution_count": 10,
      "outputs": [
        {
          "output_type": "stream",
          "name": "stderr",
          "text": [
            "/usr/local/lib/python3.10/dist-packages/keras/src/engine/training.py:3000: UserWarning: You are saving your model as an HDF5 file via `model.save()`. This file format is considered legacy. We recommend using instead the native Keras format, e.g. `model.save('my_model.keras')`.\n",
            "  saving_api.save_model(\n"
          ]
        }
      ]
    },
    {
      "cell_type": "code",
      "source": [
        "# Carregando e avaliando o modelo:\n",
        "loaded_model = tf.keras.models.load_model('/content/drive/MyDrive/CNN_COVID/meu_modelo2.h5')\n",
        "loaded_model.evaluate(test_set)"
      ],
      "metadata": {
        "id": "62uacUgib_pj",
        "colab": {
          "base_uri": "https://localhost:8080/"
        },
        "outputId": "470e7837-5358-4452-f8ec-6c0bad1e910b"
      },
      "execution_count": 11,
      "outputs": [
        {
          "output_type": "stream",
          "name": "stdout",
          "text": [
            "6/6 [==============================] - 5s 852ms/step - loss: 0.0533 - accuracy: 0.9755\n"
          ]
        },
        {
          "output_type": "execute_result",
          "data": {
            "text/plain": [
              "[0.05332363024353981, 0.9754601120948792]"
            ]
          },
          "metadata": {},
          "execution_count": 11
        }
      ]
    },
    {
      "cell_type": "code",
      "source": [
        "# Plotagem da precisão e perda do modelo:\n",
        "plt.plot(history.history['accuracy'])\n",
        "plt.plot(history.history['val_accuracy'])\n",
        "plt.title('model accuracy')\n",
        "plt.ylabel('accuracy')\n",
        "plt.xlabel('epoch')\n",
        "plt.legend(['train', 'test'], loc='upper left')\n",
        "plt.show()\n",
        "\n",
        "plt.plot(history.history['loss'])\n",
        "plt.plot(history.history['val_loss'])\n",
        "plt.title('model loss')\n",
        "plt.ylabel('loss')\n",
        "plt.xlabel('epoch')\n",
        "plt.legend(['train', 'test'], loc='upper left')\n",
        "plt.show()"
      ],
      "metadata": {
        "id": "itu-SkXGce9a",
        "colab": {
          "base_uri": "https://localhost:8080/",
          "height": 927
        },
        "outputId": "83a6bd30-25c2-414e-fea5-1d2c4a54b4f2"
      },
      "execution_count": 12,
      "outputs": [
        {
          "output_type": "display_data",
          "data": {
            "text/plain": [
              "<Figure size 640x480 with 1 Axes>"
            ],
            "image/png": "[encoded data removed]"
          },
          "metadata": {}
        },
        {
          "output_type": "display_data",
          "data": {
            "text/plain": [
              "<Figure size 640x480 with 1 Axes>"
            ],
            "image/png": "[encoded data removed]"
          },
          "metadata": {}
        }
      ]
    },
    {
      "cell_type": "code",
      "source": [
        "# Predição em uma imagem única da base Covid:\n",
        "test_image = image.load_img(r'/content/drive/MyDrive/CNN_COVID/Data/test/Covid/16744_1_1.jpg',target_size=(64, 64))\n",
        "plt.imshow(test_image)\n",
        "test_image = image.img_to_array(test_image)\n",
        "test_image = np.expand_dims(test_image, axis=0)\n",
        "result = classifier.predict(test_image)\n",
        "training_set.class_indices\n",
        "if result[0][0] == 1:\n",
        "    prediction = 'Normal'\n",
        "else:\n",
        "    prediction = 'Covid'\n",
        "print(prediction)"
      ],
      "metadata": {
        "id": "LvzhhDEHciN1",
        "colab": {
          "base_uri": "https://localhost:8080/",
          "height": 469
        },
        "outputId": "eb6dc37d-e849-4416-ab3a-c50468a04481"
      },
      "execution_count": 13,
      "outputs": [
        {
          "output_type": "stream",
          "name": "stdout",
          "text": [
            "1/1 [==============================] - 0s 150ms/step\n",
            "Covid\n"
          ]
        },
        {
          "output_type": "display_data",
          "data": {
            "text/plain": [
              "<Figure size 640x480 with 1 Axes>"
            ],
            "image/png": "[encoded data removed]"
          },
          "metadata": {}
        }
      ]
    },
    {
      "cell_type": "code",
      "source": [
        "# Predição em uma imagem única da base Normal:\n",
        "test_image = image.load_img(r'/content/drive/MyDrive/CNN_COVID/Data/test/Normal/NORMAL2-IM-1314-0001.jpeg',target_size=(64, 64))\n",
        "plt.imshow(test_image)\n",
        "test_image = image.img_to_array(test_image)\n",
        "test_image = np.expand_dims(test_image, axis=0)\n",
        "result = classifier.predict(test_image)\n",
        "training_set.class_indices\n",
        "if result[0][0] == 1:\n",
        "    prediction = 'Normal'\n",
        "else:\n",
        "    prediction = 'Covid'\n",
        "print(prediction)"
      ],
      "metadata": {
        "id": "uz8IFqSuyh62",
        "colab": {
          "base_uri": "https://localhost:8080/",
          "height": 469
        },
        "outputId": "8e5398e0-8f52-45e3-a68a-35cad4ec8c36"
      },
      "execution_count": 14,
      "outputs": [
        {
          "output_type": "stream",
          "name": "stdout",
          "text": [
            "1/1 [==============================] - 0s 18ms/step\n",
            "Normal\n"
          ]
        },
        {
          "output_type": "display_data",
          "data": {
            "text/plain": [
              "<Figure size 640x480 with 1 Axes>"
            ],
            "image/png": "[encoded data removed]"
          },
          "metadata": {}
        }
      ]
    },
    {
      "cell_type": "markdown",
      "source": [
        "Data/test/Normal\n",
        "Data/train/Normal\n",
        "Data/train/Covid\n",
        "Data/test/Covid"
      ],
      "metadata": {
        "id": "RTdX93OKCSPy"
      }
    },
    {
      "cell_type": "code",
      "source": [
        "# Predição em várias imagens:\n",
        "y_pred = []\n",
        "y_test = []\n",
        "import os\n",
        "\n",
        "for i in os.listdir(\"/content/drive/MyDrive/CNN_COVID/Data/test/Normal\"):\n",
        "    img = image.load_img(\"/content/drive/MyDrive/CNN_COVID/Data/test/Normal/\" + i, target_size=(64, 64))\n",
        "    img = image.img_to_array(img)\n",
        "    img = np.expand_dims(img, axis=0)\n",
        "    p = classifier.predict(img)\n",
        "    y_test.append(p[0, 0])\n",
        "    y_pred.append(1)\n",
        "\n",
        "for i in os.listdir(\"/content/drive/MyDrive/CNN_COVID/Data/test/Covid\"):\n",
        "    img = image.load_img(\"/content/drive/MyDrive/CNN_COVID/Data/test/Covid/\" + i, target_size=(64, 64))\n",
        "    img = image.img_to_array(img)\n",
        "    img = np.expand_dims(img, axis=0)\n",
        "    p = classifier.predict(img)\n",
        "    y_test.append(p[0, 0])\n",
        "    y_pred.append(0)\n",
        "\n",
        "y_pred = np.array(y_pred)\n",
        "y_test = np.array(y_test)"
      ],
      "metadata": {
        "id": "VbRC3zEucxXx",
        "colab": {
          "base_uri": "https://localhost:8080/"
        },
        "outputId": "c1431932-c43b-49af-ff32-1c5d0d3f9806"
      },
      "execution_count": 15,
      "outputs": [
        {
          "output_type": "stream",
          "name": "stdout",
          "text": [
            "1/1 [==============================] - 0s 18ms/step\n",
            "1/1 [==============================] - 0s 23ms/step\n",
            "1/1 [==============================] - 0s 17ms/step\n",
            "1/1 [==============================] - 0s 18ms/step\n",
            "1/1 [==============================] - 0s 18ms/step\n",
            "1/1 [==============================] - 0s 20ms/step\n",
            "1/1 [==============================] - 0s 19ms/step\n",
            "1/1 [==============================] - 0s 18ms/step\n",
            "1/1 [==============================] - 0s 17ms/step\n",
            "1/1 [==============================] - 0s 19ms/step\n",
            "1/1 [==============================] - 0s 17ms/step\n",
            "1/1 [==============================] - 0s 18ms/step\n",
            "1/1 [==============================] - 0s 19ms/step\n",
            "1/1 [==============================] - 0s 21ms/step\n",
            "1/1 [==============================] - 0s 18ms/step\n",
            "1/1 [==============================] - 0s 19ms/step\n",
            "1/1 [==============================] - 0s 18ms/step\n",
            "1/1 [==============================] - 0s 18ms/step\n",
            "1/1 [==============================] - 0s 19ms/step\n",
            "1/1 [==============================] - 0s 17ms/step\n",
            "1/1 [==============================] - 0s 18ms/step\n",
            "1/1 [==============================] - 0s 27ms/step\n",
            "1/1 [==============================] - 0s 27ms/step\n",
            "1/1 [==============================] - 0s 31ms/step\n",
            "1/1 [==============================] - 0s 30ms/step\n",
            "1/1 [==============================] - 0s 29ms/step\n",
            "1/1 [==============================] - 0s 37ms/step\n",
            "1/1 [==============================] - 0s 28ms/step\n",
            "1/1 [==============================] - 0s 31ms/step\n",
            "1/1 [==============================] - 0s 26ms/step\n",
            "1/1 [==============================] - 0s 29ms/step\n",
            "1/1 [==============================] - 0s 26ms/step\n",
            "1/1 [==============================] - 0s 31ms/step\n",
            "1/1 [==============================] - 0s 27ms/step\n",
            "1/1 [==============================] - 0s 28ms/step\n",
            "1/1 [==============================] - 0s 27ms/step\n",
            "1/1 [==============================] - 0s 27ms/step\n",
            "1/1 [==============================] - 0s 26ms/step\n",
            "1/1 [==============================] - 0s 34ms/step\n",
            "1/1 [==============================] - 0s 28ms/step\n",
            "1/1 [==============================] - 0s 25ms/step\n",
            "1/1 [==============================] - 0s 29ms/step\n",
            "1/1 [==============================] - 0s 25ms/step\n",
            "1/1 [==============================] - 0s 28ms/step\n",
            "1/1 [==============================] - 0s 29ms/step\n",
            "1/1 [==============================] - 0s 27ms/step\n",
            "1/1 [==============================] - 0s 29ms/step\n",
            "1/1 [==============================] - 0s 26ms/step\n",
            "1/1 [==============================] - 0s 28ms/step\n",
            "1/1 [==============================] - 0s 34ms/step\n",
            "1/1 [==============================] - 0s 35ms/step\n",
            "1/1 [==============================] - 0s 18ms/step\n",
            "1/1 [==============================] - 0s 20ms/step\n",
            "1/1 [==============================] - 0s 20ms/step\n",
            "1/1 [==============================] - 0s 18ms/step\n",
            "1/1 [==============================] - 0s 20ms/step\n",
            "1/1 [==============================] - 0s 17ms/step\n",
            "1/1 [==============================] - 0s 20ms/step\n",
            "1/1 [==============================] - 0s 17ms/step\n",
            "1/1 [==============================] - 0s 21ms/step\n",
            "1/1 [==============================] - 0s 17ms/step\n",
            "1/1 [==============================] - 0s 18ms/step\n",
            "1/1 [==============================] - 0s 18ms/step\n",
            "1/1 [==============================] - 0s 17ms/step\n",
            "1/1 [==============================] - 0s 17ms/step\n",
            "1/1 [==============================] - 0s 18ms/step\n",
            "1/1 [==============================] - 0s 18ms/step\n",
            "1/1 [==============================] - 0s 20ms/step\n",
            "1/1 [==============================] - 0s 17ms/step\n",
            "1/1 [==============================] - 0s 18ms/step\n",
            "1/1 [==============================] - 0s 19ms/step\n",
            "1/1 [==============================] - 0s 20ms/step\n",
            "1/1 [==============================] - 0s 18ms/step\n",
            "1/1 [==============================] - 0s 17ms/step\n",
            "1/1 [==============================] - 0s 31ms/step\n",
            "1/1 [==============================] - 0s 18ms/step\n",
            "1/1 [==============================] - 0s 16ms/step\n",
            "1/1 [==============================] - 0s 21ms/step\n",
            "1/1 [==============================] - 0s 18ms/step\n",
            "1/1 [==============================] - 0s 17ms/step\n",
            "1/1 [==============================] - 0s 17ms/step\n",
            "1/1 [==============================] - 0s 18ms/step\n",
            "1/1 [==============================] - 0s 18ms/step\n",
            "1/1 [==============================] - 0s 19ms/step\n",
            "1/1 [==============================] - 0s 21ms/step\n",
            "1/1 [==============================] - 0s 18ms/step\n",
            "1/1 [==============================] - 0s 19ms/step\n",
            "1/1 [==============================] - 0s 19ms/step\n",
            "1/1 [==============================] - 0s 20ms/step\n",
            "1/1 [==============================] - 0s 19ms/step\n",
            "1/1 [==============================] - 0s 19ms/step\n",
            "1/1 [==============================] - 0s 19ms/step\n",
            "1/1 [==============================] - 0s 17ms/step\n",
            "1/1 [==============================] - 0s 18ms/step\n",
            "1/1 [==============================] - 0s 17ms/step\n",
            "1/1 [==============================] - 0s 20ms/step\n",
            "1/1 [==============================] - 0s 20ms/step\n",
            "1/1 [==============================] - 0s 17ms/step\n",
            "1/1 [==============================] - 0s 23ms/step\n",
            "1/1 [==============================] - 0s 19ms/step\n",
            "1/1 [==============================] - 0s 21ms/step\n",
            "1/1 [==============================] - 0s 18ms/step\n",
            "1/1 [==============================] - 0s 19ms/step\n",
            "1/1 [==============================] - 0s 20ms/step\n",
            "1/1 [==============================] - 0s 20ms/step\n",
            "1/1 [==============================] - 0s 18ms/step\n",
            "1/1 [==============================] - 0s 19ms/step\n",
            "1/1 [==============================] - 0s 19ms/step\n",
            "1/1 [==============================] - 0s 17ms/step\n",
            "1/1 [==============================] - 0s 17ms/step\n",
            "1/1 [==============================] - 0s 19ms/step\n",
            "1/1 [==============================] - 0s 22ms/step\n",
            "1/1 [==============================] - 0s 20ms/step\n",
            "1/1 [==============================] - 0s 17ms/step\n",
            "1/1 [==============================] - 0s 19ms/step\n",
            "1/1 [==============================] - 0s 21ms/step\n",
            "1/1 [==============================] - 0s 19ms/step\n",
            "1/1 [==============================] - 0s 21ms/step\n",
            "1/1 [==============================] - 0s 23ms/step\n",
            "1/1 [==============================] - 0s 19ms/step\n",
            "1/1 [==============================] - 0s 18ms/step\n",
            "1/1 [==============================] - 0s 17ms/step\n",
            "1/1 [==============================] - 0s 18ms/step\n",
            "1/1 [==============================] - 0s 20ms/step\n",
            "1/1 [==============================] - 0s 20ms/step\n",
            "1/1 [==============================] - 0s 24ms/step\n",
            "1/1 [==============================] - 0s 20ms/step\n",
            "1/1 [==============================] - 0s 17ms/step\n",
            "1/1 [==============================] - 0s 19ms/step\n",
            "1/1 [==============================] - 0s 19ms/step\n",
            "1/1 [==============================] - 0s 17ms/step\n",
            "1/1 [==============================] - 0s 17ms/step\n",
            "1/1 [==============================] - 0s 16ms/step\n",
            "1/1 [==============================] - 0s 17ms/step\n",
            "1/1 [==============================] - 0s 18ms/step\n",
            "1/1 [==============================] - 0s 18ms/step\n",
            "1/1 [==============================] - 0s 17ms/step\n",
            "1/1 [==============================] - 0s 22ms/step\n",
            "1/1 [==============================] - 0s 17ms/step\n",
            "1/1 [==============================] - 0s 17ms/step\n",
            "1/1 [==============================] - 0s 20ms/step\n",
            "1/1 [==============================] - 0s 24ms/step\n",
            "1/1 [==============================] - 0s 18ms/step\n",
            "1/1 [==============================] - 0s 22ms/step\n",
            "1/1 [==============================] - 0s 19ms/step\n",
            "1/1 [==============================] - 0s 17ms/step\n",
            "1/1 [==============================] - 0s 17ms/step\n",
            "1/1 [==============================] - 0s 21ms/step\n",
            "1/1 [==============================] - 0s 20ms/step\n",
            "1/1 [==============================] - 0s 18ms/step\n",
            "1/1 [==============================] - 0s 21ms/step\n",
            "1/1 [==============================] - 0s 21ms/step\n",
            "1/1 [==============================] - 0s 21ms/step\n",
            "1/1 [==============================] - 0s 20ms/step\n",
            "1/1 [==============================] - 0s 27ms/step\n",
            "1/1 [==============================] - 0s 19ms/step\n",
            "1/1 [==============================] - 0s 18ms/step\n",
            "1/1 [==============================] - 0s 19ms/step\n",
            "1/1 [==============================] - 0s 18ms/step\n",
            "1/1 [==============================] - 0s 20ms/step\n",
            "1/1 [==============================] - 0s 17ms/step\n",
            "1/1 [==============================] - 0s 19ms/step\n",
            "1/1 [==============================] - 0s 18ms/step\n"
          ]
        }
      ]
    },
    {
      "cell_type": "code",
      "source": [
        "# # Matriz de confusão:\n",
        "cm = confusion_matrix(y_pred, y_test.round())\n",
        "sns.heatmap(cm, cmap=\"plasma\", annot=True)\n",
        "plt.show()"
      ],
      "metadata": {
        "id": "LEoRr_qYih5D",
        "colab": {
          "base_uri": "https://localhost:8080/",
          "height": 430
        },
        "outputId": "e011c1b0-c97d-4f14-c3d1-82959965c333"
      },
      "execution_count": 16,
      "outputs": [
        {
          "output_type": "display_data",
          "data": {
            "text/plain": [
              "<Figure size 640x480 with 2 Axes>"
            ],
            "image/png": "[encoded data removed]"
          },
          "metadata": {}
        }
      ]
    },
    {
      "cell_type": "code",
      "source": [
        "# Impressão do relatório de classificação:\n",
        "print(classification_report(y_pred, y_test.round()))"
      ],
      "metadata": {
        "colab": {
          "base_uri": "https://localhost:8080/"
        },
        "id": "mCX2cfa7ZBvc",
        "outputId": "17545bdd-c84f-4f45-cbe4-4703af76459f"
      },
      "execution_count": 17,
      "outputs": [
        {
          "output_type": "stream",
          "name": "stdout",
          "text": [
            "              precision    recall  f1-score   support\n",
            "\n",
            "           0       0.99      0.98      0.99       139\n",
            "           1       0.88      0.96      0.92        24\n",
            "\n",
            "    accuracy                           0.98       163\n",
            "   macro avg       0.94      0.97      0.95       163\n",
            "weighted avg       0.98      0.98      0.98       163\n",
            "\n"
          ]
        }
      ]
    },
    {
      "cell_type": "code",
      "source": [
        "# Importando as bibliotecas necessárias\n",
        "from tensorflow.keras.callbacks import TensorBoard\n",
        "import tensorflow as tf\n",
        "import time\n",
        "\n",
        "# Log de resultados\n",
        "log = []\n",
        "\n",
        "# Definindo os hiperparâmetros expandidos\n",
        "num_epochs = [5, 10, 20]\n",
        "batch_sizes = [16, 32, 64]\n",
        "learning_rates = [0.1, 0.01, 0.005, 0.001, 0.0001]\n",
        "\n",
        "# Loop através dos hiperparâmetros\n",
        "for num_epoch in num_epochs:\n",
        "    for batch_size in batch_sizes:\n",
        "        for learning_rate in learning_rates:\n",
        "\n",
        "            # Crie um nome único para cada experimento\n",
        "            NAME = f\"epochs-{num_epoch}-batch_size-{batch_size}-learning_rate-{learning_rate}-{int(time.time())}\"\n",
        "\n",
        "            # Inicialize o TensorBoard\n",
        "            tensorboard = TensorBoard(log_dir=f'logs/{NAME}')\n",
        "\n",
        "            # Construa seu modelo aqui (não incluído no exemplo)\n",
        "\n",
        "            # Compile o modelo com a taxa de aprendizado especificada\n",
        "            classifier.compile(optimizer=tf.keras.optimizers.Adam(learning_rate=learning_rate),\n",
        "                               loss='binary_crossentropy',\n",
        "                               metrics=['accuracy'])\n",
        "\n",
        "            # Treine o modelo com os callbacks do TensorBoard\n",
        "            history = classifier.fit(training_set,\n",
        "                                     steps_per_epoch=4,\n",
        "                                     epochs=num_epoch,\n",
        "                                     validation_data=test_set,\n",
        "                                     validation_steps=4,\n",
        "                                     callbacks=[tensorboard])\n",
        "\n",
        "            # Registrar os resultados\n",
        "            final_train_accuracy = history.history['accuracy'][-1]\n",
        "            final_val_accuracy = history.history['val_accuracy'][-1]\n",
        "            log_entry = {\n",
        "                'num_epoch': num_epoch,\n",
        "                'batch_size': batch_size,\n",
        "                'learning_rate': learning_rate,\n",
        "                'final_train_accuracy': final_train_accuracy,\n",
        "                'final_val_accuracy': final_val_accuracy,\n",
        "            }\n",
        "            log.append(log_entry)\n",
        "\n",
        "            print(f\"Finished training with {log_entry}\")\n",
        "\n",
        "# Depois que todos os experimentos terminarem, você pode salvar ou analisar o log."
      ],
      "metadata": {
        "colab": {
          "base_uri": "https://localhost:8080/"
        },
        "id": "rVerJvf8bmcn",
        "outputId": "82ca45a7-8bd9-4160-e864-128771c7e4f0"
      },
      "execution_count": null,
      "outputs": [
        {
          "output_type": "stream",
          "name": "stdout",
          "text": [
            "Epoch 1/5\n",
            "4/4 [==============================] - 11s 3s/step - loss: 1992.4492 - accuracy: 0.5234 - val_loss: 30.3843 - val_accuracy: 0.1641\n",
            "Epoch 2/5\n",
            "4/4 [==============================] - 14s 4s/step - loss: 10.9581 - accuracy: 0.6639 - val_loss: 1.0288 - val_accuracy: 0.8516\n",
            "Epoch 3/5\n",
            "4/4 [==============================] - 8s 3s/step - loss: 0.5385 - accuracy: 0.8750 - val_loss: 0.4736 - val_accuracy: 0.8672\n",
            "Epoch 4/5\n",
            "4/4 [==============================] - 10s 3s/step - loss: 0.5275 - accuracy: 0.8594 - val_loss: 0.5612 - val_accuracy: 0.8438\n",
            "Epoch 5/5\n",
            "4/4 [==============================] - 13s 4s/step - loss: 0.5632 - accuracy: 0.7891 - val_loss: 0.4922 - val_accuracy: 0.8594\n",
            "Finished training with {'num_epoch': 5, 'batch_size': 16, 'learning_rate': 0.1, 'final_train_accuracy': 0.7890625, 'final_val_accuracy': 0.859375}\n",
            "Epoch 1/5\n",
            "4/4 [==============================] - 12s 3s/step - loss: 0.4180 - accuracy: 0.8828 - val_loss: 0.3430 - val_accuracy: 0.9062\n",
            "Epoch 2/5\n",
            "4/4 [==============================] - 10s 3s/step - loss: 0.2810 - accuracy: 0.9141 - val_loss: 0.2876 - val_accuracy: 0.8594\n",
            "Epoch 3/5\n",
            "4/4 [==============================] - 8s 2s/step - loss: 0.3200 - accuracy: 0.9141 - val_loss: 0.3620 - val_accuracy: 0.8672\n",
            "Epoch 4/5\n",
            "4/4 [==============================] - 9s 3s/step - loss: 0.3542 - accuracy: 0.8594 - val_loss: 0.2746 - val_accuracy: 0.8984\n",
            "Epoch 5/5\n",
            "4/4 [==============================] - 10s 3s/step - loss: 0.4099 - accuracy: 0.8594 - val_loss: 0.3035 - val_accuracy: 0.8906\n",
            "Finished training with {'num_epoch': 5, 'batch_size': 16, 'learning_rate': 0.01, 'final_train_accuracy': 0.859375, 'final_val_accuracy': 0.890625}\n",
            "Epoch 1/5\n",
            "4/4 [==============================] - 12s 3s/step - loss: 0.2241 - accuracy: 0.9426 - val_loss: 0.3379 - val_accuracy: 0.8750\n",
            "Epoch 2/5\n",
            "4/4 [==============================] - 8s 3s/step - loss: 0.2261 - accuracy: 0.9375 - val_loss: 0.2367 - val_accuracy: 0.8984\n",
            "Epoch 3/5\n",
            "4/4 [==============================] - 10s 3s/step - loss: 0.2583 - accuracy: 0.9262 - val_loss: 0.2967 - val_accuracy: 0.8906\n",
            "Epoch 4/5\n",
            "4/4 [==============================] - 10s 3s/step - loss: 0.3314 - accuracy: 0.8906 - val_loss: 0.3247 - val_accuracy: 0.8984\n",
            "Epoch 5/5\n",
            "4/4 [==============================] - 8s 2s/step - loss: 0.2412 - accuracy: 0.8906 - val_loss: 0.3186 - val_accuracy: 0.8906\n",
            "Finished training with {'num_epoch': 5, 'batch_size': 16, 'learning_rate': 0.005, 'final_train_accuracy': 0.890625, 'final_val_accuracy': 0.890625}\n",
            "Epoch 1/5\n",
            "4/4 [==============================] - 11s 2s/step - loss: 0.2143 - accuracy: 0.9344 - val_loss: 0.3122 - val_accuracy: 0.8906\n",
            "Epoch 2/5\n",
            "4/4 [==============================] - 10s 3s/step - loss: 0.2763 - accuracy: 0.9062 - val_loss: 0.2215 - val_accuracy: 0.9297\n",
            "Epoch 3/5\n",
            "4/4 [==============================] - 8s 3s/step - loss: 0.3080 - accuracy: 0.8828 - val_loss: 0.3445 - val_accuracy: 0.8594\n",
            "Epoch 4/5\n",
            "4/4 [==============================] - 9s 2s/step - loss: 0.3496 - accuracy: 0.8934 - val_loss: 0.2411 - val_accuracy: 0.9141\n",
            "Epoch 5/5\n",
            "4/4 [==============================] - 10s 3s/step - loss: 0.3429 - accuracy: 0.8828 - val_loss: 0.2877 - val_accuracy: 0.8984\n",
            "Finished training with {'num_epoch': 5, 'batch_size': 16, 'learning_rate': 0.001, 'final_train_accuracy': 0.8828125, 'final_val_accuracy': 0.8984375}\n",
            "Epoch 1/5\n",
            "4/4 [==============================] - 15s 4s/step - loss: 0.2680 - accuracy: 0.8984 - val_loss: 0.3049 - val_accuracy: 0.8750\n",
            "Epoch 2/5\n",
            "4/4 [==============================] - 8s 2s/step - loss: 0.2556 - accuracy: 0.9141 - val_loss: 0.2935 - val_accuracy: 0.8906\n",
            "Epoch 3/5\n",
            "4/4 [==============================] - 9s 3s/step - loss: 0.1577 - accuracy: 0.9426 - val_loss: 0.3195 - val_accuracy: 0.8750\n",
            "Epoch 4/5\n",
            "4/4 [==============================] - 13s 4s/step - loss: 0.2381 - accuracy: 0.9180 - val_loss: 0.2802 - val_accuracy: 0.8906\n",
            "Epoch 5/5\n",
            "4/4 [==============================] - 9s 3s/step - loss: 0.2649 - accuracy: 0.8828 - val_loss: 0.2936 - val_accuracy: 0.8750\n",
            "Finished training with {'num_epoch': 5, 'batch_size': 16, 'learning_rate': 0.0001, 'final_train_accuracy': 0.8828125, 'final_val_accuracy': 0.875}\n",
            "Epoch 1/5\n",
            "4/4 [==============================] - 11s 3s/step - loss: 1.7745 - accuracy: 0.6172 - val_loss: 0.3826 - val_accuracy: 0.8984\n",
            "Epoch 2/5\n",
            "4/4 [==============================] - 9s 3s/step - loss: 0.4411 - accuracy: 0.8750 - val_loss: 0.2342 - val_accuracy: 0.8750\n",
            "Epoch 3/5\n",
            "4/4 [==============================] - 10s 3s/step - loss: 0.1420 - accuracy: 0.9375 - val_loss: 0.3070 - val_accuracy: 0.8828\n",
            "Epoch 4/5\n",
            "4/4 [==============================] - 9s 3s/step - loss: 0.2940 - accuracy: 0.9219 - val_loss: 0.7845 - val_accuracy: 0.8828\n",
            "Epoch 5/5\n",
            "4/4 [==============================] - 8s 2s/step - loss: 0.4312 - accuracy: 0.9062 - val_loss: 0.3148 - val_accuracy: 0.8672\n",
            "Finished training with {'num_epoch': 5, 'batch_size': 32, 'learning_rate': 0.1, 'final_train_accuracy': 0.90625, 'final_val_accuracy': 0.8671875}\n",
            "Epoch 1/5\n",
            "4/4 [==============================] - 11s 2s/step - loss: 0.2200 - accuracy: 0.9297 - val_loss: 0.3799 - val_accuracy: 0.8906\n",
            "Epoch 2/5\n",
            "4/4 [==============================] - 10s 3s/step - loss: 0.1739 - accuracy: 0.9531 - val_loss: 0.4205 - val_accuracy: 0.9141\n",
            "Epoch 3/5\n",
            "4/4 [==============================] - 8s 2s/step - loss: 0.2413 - accuracy: 0.9531 - val_loss: 0.5348 - val_accuracy: 0.8984\n",
            "Epoch 4/5\n",
            "4/4 [==============================] - 9s 3s/step - loss: 0.3421 - accuracy: 0.9426 - val_loss: 0.3079 - val_accuracy: 0.9062\n",
            "Epoch 5/5\n",
            "4/4 [==============================] - 13s 4s/step - loss: 0.2578 - accuracy: 0.9262 - val_loss: 0.2419 - val_accuracy: 0.9375\n",
            "Finished training with {'num_epoch': 5, 'batch_size': 32, 'learning_rate': 0.01, 'final_train_accuracy': 0.9262295365333557, 'final_val_accuracy': 0.9375}\n",
            "Epoch 1/5\n",
            "4/4 [==============================] - 12s 3s/step - loss: 0.2803 - accuracy: 0.9180 - val_loss: 0.2529 - val_accuracy: 0.9141\n",
            "Epoch 2/5\n",
            "4/4 [==============================] - 10s 3s/step - loss: 0.2813 - accuracy: 0.9453 - val_loss: 0.3044 - val_accuracy: 0.9062\n",
            "Epoch 3/5\n",
            "4/4 [==============================] - 13s 4s/step - loss: 0.2964 - accuracy: 0.9219 - val_loss: 0.2862 - val_accuracy: 0.9141\n",
            "Epoch 4/5\n",
            "4/4 [==============================] - 10s 3s/step - loss: 0.1820 - accuracy: 0.9531 - val_loss: 0.2587 - val_accuracy: 0.9219\n",
            "Epoch 5/5\n",
            "4/4 [==============================] - 8s 2s/step - loss: 0.2818 - accuracy: 0.9141 - val_loss: 0.2619 - val_accuracy: 0.9141\n",
            "Finished training with {'num_epoch': 5, 'batch_size': 32, 'learning_rate': 0.005, 'final_train_accuracy': 0.9140625, 'final_val_accuracy': 0.9140625}\n",
            "Epoch 1/5\n",
            "4/4 [==============================] - 10s 2s/step - loss: 0.2498 - accuracy: 0.9375 - val_loss: 0.2832 - val_accuracy: 0.8984\n",
            "Epoch 2/5\n",
            "4/4 [==============================] - 9s 3s/step - loss: 0.0970 - accuracy: 0.9836 - val_loss: 0.2640 - val_accuracy: 0.9219\n",
            "Epoch 3/5\n",
            "4/4 [==============================] - 13s 4s/step - loss: 0.2410 - accuracy: 0.9453 - val_loss: 0.2100 - val_accuracy: 0.9219\n",
            "Epoch 4/5\n",
            "4/4 [==============================] - 8s 2s/step - loss: 0.2155 - accuracy: 0.9262 - val_loss: 0.2421 - val_accuracy: 0.9375\n",
            "Epoch 5/5\n",
            "4/4 [==============================] - 10s 3s/step - loss: 0.2413 - accuracy: 0.9262 - val_loss: 0.2829 - val_accuracy: 0.9062\n",
            "Finished training with {'num_epoch': 5, 'batch_size': 32, 'learning_rate': 0.001, 'final_train_accuracy': 0.9262295365333557, 'final_val_accuracy': 0.90625}\n",
            "Epoch 1/5\n",
            "4/4 [==============================] - 11s 3s/step - loss: 0.1585 - accuracy: 0.9609 - val_loss: 0.2844 - val_accuracy: 0.9219\n",
            "Epoch 2/5\n",
            "4/4 [==============================] - 9s 3s/step - loss: 0.1738 - accuracy: 0.9453 - val_loss: 0.2768 - val_accuracy: 0.9219\n",
            "Epoch 3/5\n",
            "4/4 [==============================] - 8s 3s/step - loss: 0.2174 - accuracy: 0.9453 - val_loss: 0.2799 - val_accuracy: 0.9141\n",
            "Epoch 4/5\n",
            "4/4 [==============================] - 10s 3s/step - loss: 0.1820 - accuracy: 0.9590 - val_loss: 0.2960 - val_accuracy: 0.9062\n",
            "Epoch 5/5\n",
            "4/4 [==============================] - 13s 4s/step - loss: 0.2690 - accuracy: 0.9141 - val_loss: 0.3098 - val_accuracy: 0.9062\n",
            "Finished training with {'num_epoch': 5, 'batch_size': 32, 'learning_rate': 0.0001, 'final_train_accuracy': 0.9140625, 'final_val_accuracy': 0.90625}\n",
            "Epoch 1/5\n",
            "4/4 [==============================] - 11s 3s/step - loss: 8.6168 - accuracy: 0.8279 - val_loss: 3.7303 - val_accuracy: 0.8281\n",
            "Epoch 2/5\n",
            "4/4 [==============================] - 10s 3s/step - loss: 1.5831 - accuracy: 0.8750 - val_loss: 1.5216 - val_accuracy: 0.8594\n",
            "Epoch 3/5\n",
            "4/4 [==============================] - 10s 3s/step - loss: 0.7275 - accuracy: 0.8516 - val_loss: 0.3591 - val_accuracy: 0.8438\n",
            "Epoch 4/5\n",
            "4/4 [==============================] - 8s 3s/step - loss: 0.4270 - accuracy: 0.8516 - val_loss: 0.4292 - val_accuracy: 0.8516\n",
            "Epoch 5/5\n",
            "4/4 [==============================] - 10s 3s/step - loss: 0.3916 - accuracy: 0.8672 - val_loss: 0.4335 - val_accuracy: 0.8438\n",
            "Finished training with {'num_epoch': 5, 'batch_size': 64, 'learning_rate': 0.1, 'final_train_accuracy': 0.8671875, 'final_val_accuracy': 0.84375}\n",
            "Epoch 1/5\n",
            "4/4 [==============================] - 12s 3s/step - loss: 0.3528 - accuracy: 0.8906 - val_loss: 0.4345 - val_accuracy: 0.8438\n",
            "Epoch 2/5\n",
            "4/4 [==============================] - 9s 3s/step - loss: 0.4037 - accuracy: 0.8607 - val_loss: 0.4063 - val_accuracy: 0.8594\n",
            "Epoch 3/5\n",
            "4/4 [==============================] - 9s 3s/step - loss: 0.2953 - accuracy: 0.9180 - val_loss: 0.4675 - val_accuracy: 0.8281\n",
            "Epoch 4/5\n",
            "4/4 [==============================] - 13s 4s/step - loss: 0.4228 - accuracy: 0.8516 - val_loss: 0.4389 - val_accuracy: 0.8438\n",
            "Epoch 5/5\n",
            "4/4 [==============================] - 8s 2s/step - loss: 0.4389 - accuracy: 0.8438 - val_loss: 0.4230 - val_accuracy: 0.8516\n",
            "Finished training with {'num_epoch': 5, 'batch_size': 64, 'learning_rate': 0.01, 'final_train_accuracy': 0.84375, 'final_val_accuracy': 0.8515625}\n",
            "Epoch 1/5\n",
            "4/4 [==============================] - 12s 3s/step - loss: 0.3925 - accuracy: 0.8672 - val_loss: 0.4215 - val_accuracy: 0.8516\n",
            "Epoch 2/5\n",
            "4/4 [==============================] - 11s 3s/step - loss: 0.3104 - accuracy: 0.9098 - val_loss: 0.4221 - val_accuracy: 0.8516\n",
            "Epoch 3/5\n",
            "4/4 [==============================] - 9s 3s/step - loss: 0.4364 - accuracy: 0.8443 - val_loss: 0.3919 - val_accuracy: 0.8672\n",
            "Epoch 4/5\n",
            "4/4 [==============================] - 9s 3s/step - loss: 0.4373 - accuracy: 0.8438 - val_loss: 0.3919 - val_accuracy: 0.8672\n",
            "Epoch 5/5\n",
            "4/4 [==============================] - 10s 3s/step - loss: 0.4360 - accuracy: 0.8443 - val_loss: 0.3917 - val_accuracy: 0.8672\n",
            "Finished training with {'num_epoch': 5, 'batch_size': 64, 'learning_rate': 0.005, 'final_train_accuracy': 0.8442623019218445, 'final_val_accuracy': 0.8671875}\n",
            "Epoch 1/5\n",
            "4/4 [==============================] - 16s 4s/step - loss: 0.5105 - accuracy: 0.8047 - val_loss: 0.4213 - val_accuracy: 0.8516\n",
            "Epoch 2/5\n",
            "4/4 [==============================] - 10s 3s/step - loss: 0.4359 - accuracy: 0.8438 - val_loss: 0.4358 - val_accuracy: 0.8438\n",
            "Epoch 3/5\n",
            "4/4 [==============================] - 9s 3s/step - loss: 0.4656 - accuracy: 0.8279 - val_loss: 0.4502 - val_accuracy: 0.8359\n",
            "Epoch 4/5\n",
            "4/4 [==============================] - 10s 3s/step - loss: 0.4040 - accuracy: 0.8607 - val_loss: 0.4063 - val_accuracy: 0.8594\n",
            "Epoch 5/5\n",
            "4/4 [==============================] - 13s 4s/step - loss: 0.4191 - accuracy: 0.8525 - val_loss: 0.4353 - val_accuracy: 0.8438\n",
            "Finished training with {'num_epoch': 5, 'batch_size': 64, 'learning_rate': 0.001, 'final_train_accuracy': 0.8524590134620667, 'final_val_accuracy': 0.84375}\n",
            "Epoch 1/5\n",
            "4/4 [==============================] - 12s 3s/step - loss: 0.3886 - accuracy: 0.8689 - val_loss: 0.4498 - val_accuracy: 0.8359\n",
            "Epoch 2/5\n",
            "4/4 [==============================] - 9s 3s/step - loss: 0.3772 - accuracy: 0.8750 - val_loss: 0.4062 - val_accuracy: 0.8594\n",
            "Epoch 3/5\n",
            "4/4 [==============================] - 13s 4s/step - loss: 0.4353 - accuracy: 0.8438 - val_loss: 0.4208 - val_accuracy: 0.8516\n",
            "Epoch 4/5\n",
            "4/4 [==============================] - 8s 3s/step - loss: 0.3917 - accuracy: 0.8672 - val_loss: 0.3917 - val_accuracy: 0.8672\n",
            "Epoch 5/5\n",
            "4/4 [==============================] - 10s 3s/step - loss: 0.4191 - accuracy: 0.8525 - val_loss: 0.3917 - val_accuracy: 0.8672\n",
            "Finished training with {'num_epoch': 5, 'batch_size': 64, 'learning_rate': 0.0001, 'final_train_accuracy': 0.8524590134620667, 'final_val_accuracy': 0.8671875}\n",
            "Epoch 1/10\n",
            "4/4 [==============================] - 13s 4s/step - loss: 0.3852 - accuracy: 0.8828 - val_loss: 0.5262 - val_accuracy: 0.8203\n",
            "Epoch 2/10\n",
            "4/4 [==============================] - 8s 2s/step - loss: 0.3942 - accuracy: 0.8689 - val_loss: 0.4103 - val_accuracy: 0.8594\n",
            "Epoch 3/10\n",
            "4/4 [==============================] - 10s 3s/step - loss: 0.4496 - accuracy: 0.8359 - val_loss: 0.4200 - val_accuracy: 0.8594\n",
            "Epoch 4/10\n",
            "4/4 [==============================] - 13s 4s/step - loss: 0.4772 - accuracy: 0.8197 - val_loss: 0.4085 - val_accuracy: 0.8594\n",
            "Epoch 5/10\n",
            "4/4 [==============================] - 8s 2s/step - loss: 0.4210 - accuracy: 0.8516 - val_loss: 0.4202 - val_accuracy: 0.8516\n",
            "Epoch 6/10\n",
            "4/4 [==============================] - 10s 3s/step - loss: 0.3363 - accuracy: 0.8984 - val_loss: 0.4246 - val_accuracy: 0.8516\n",
            "Epoch 7/10\n",
            "4/4 [==============================] - 13s 4s/step - loss: 0.3788 - accuracy: 0.8750 - val_loss: 0.4160 - val_accuracy: 0.8594\n",
            "Epoch 8/10\n",
            "4/4 [==============================] - 9s 3s/step - loss: 0.5082 - accuracy: 0.8197 - val_loss: 0.4096 - val_accuracy: 0.8594\n",
            "Epoch 9/10\n",
            "4/4 [==============================] - 10s 3s/step - loss: 0.4540 - accuracy: 0.8359 - val_loss: 0.4334 - val_accuracy: 0.8438\n",
            "Epoch 10/10\n",
            "4/4 [==============================] - 9s 3s/step - loss: 0.4487 - accuracy: 0.8361 - val_loss: 0.4497 - val_accuracy: 0.8359\n",
            "Finished training with {'num_epoch': 10, 'batch_size': 16, 'learning_rate': 0.1, 'final_train_accuracy': 0.8360655903816223, 'final_val_accuracy': 0.8359375}\n",
            "Epoch 1/10\n",
            "4/4 [==============================] - 10s 3s/step - loss: 0.3174 - accuracy: 0.9262 - val_loss: 0.4592 - val_accuracy: 0.8281\n",
            "Epoch 2/10\n",
            "4/4 [==============================] - 9s 3s/step - loss: 0.4591 - accuracy: 0.8279 - val_loss: 0.4101 - val_accuracy: 0.8594\n",
            "Epoch 3/10\n",
            "4/4 [==============================] - 10s 3s/step - loss: 0.4333 - accuracy: 0.8443 - val_loss: 0.4589 - val_accuracy: 0.8281\n",
            "Epoch 4/10\n",
            "4/4 [==============================] - 10s 3s/step - loss: 0.4211 - accuracy: 0.8516 - val_loss: 0.4335 - val_accuracy: 0.8438\n",
            "Epoch 5/10\n",
            "4/4 [==============================] - 8s 2s/step - loss: 0.3650 - accuracy: 0.8852 - val_loss: 0.3674 - val_accuracy: 0.8828\n",
            "Epoch 6/10\n",
            "4/4 [==============================] - 9s 3s/step - loss: 0.4328 - accuracy: 0.8443 - val_loss: 0.4469 - val_accuracy: 0.8359\n",
            "Epoch 7/10\n",
            "4/4 [==============================] - 10s 3s/step - loss: 0.2980 - accuracy: 0.9219 - val_loss: 0.4063 - val_accuracy: 0.8594\n",
            "Epoch 8/10\n",
            "4/4 [==============================] - 9s 3s/step - loss: 0.4614 - accuracy: 0.8281 - val_loss: 0.3503 - val_accuracy: 0.8906\n",
            "Epoch 9/10\n",
            "4/4 [==============================] - 9s 2s/step - loss: 0.4484 - accuracy: 0.8359 - val_loss: 0.4342 - val_accuracy: 0.8438\n",
            "Epoch 10/10\n",
            "4/4 [==============================] - 10s 3s/step - loss: 0.4904 - accuracy: 0.8125 - val_loss: 0.4061 - val_accuracy: 0.8594\n",
            "Finished training with {'num_epoch': 10, 'batch_size': 16, 'learning_rate': 0.01, 'final_train_accuracy': 0.8125, 'final_val_accuracy': 0.859375}\n",
            "Epoch 1/10\n",
            "4/4 [==============================] - 11s 3s/step - loss: 0.4205 - accuracy: 0.8516 - val_loss: 0.4344 - val_accuracy: 0.8438\n",
            "Epoch 2/10\n",
            "4/4 [==============================] - 8s 3s/step - loss: 0.4484 - accuracy: 0.8359 - val_loss: 0.4201 - val_accuracy: 0.8516\n",
            "Epoch 3/10\n",
            "4/4 [==============================] - 14s 4s/step - loss: 0.4062 - accuracy: 0.8594 - val_loss: 0.3782 - val_accuracy: 0.8750\n",
            "Epoch 4/10\n",
            "4/4 [==============================] - 13s 4s/step - loss: 0.4915 - accuracy: 0.8115 - val_loss: 0.4339 - val_accuracy: 0.8438\n",
            "Epoch 5/10\n",
            "4/4 [==============================] - 9s 3s/step - loss: 0.3371 - accuracy: 0.8984 - val_loss: 0.4062 - val_accuracy: 0.8594\n",
            "Epoch 6/10\n",
            "4/4 [==============================] - 9s 3s/step - loss: 0.4891 - accuracy: 0.8125 - val_loss: 0.4751 - val_accuracy: 0.8203\n",
            "Epoch 7/10\n",
            "4/4 [==============================] - 10s 3s/step - loss: 0.2961 - accuracy: 0.9219 - val_loss: 0.3786 - val_accuracy: 0.8750\n",
            "Epoch 8/10\n",
            "4/4 [==============================] - 13s 4s/step - loss: 0.4200 - accuracy: 0.8516 - val_loss: 0.4200 - val_accuracy: 0.8516\n",
            "Epoch 9/10\n",
            "4/4 [==============================] - 9s 2s/step - loss: 0.5310 - accuracy: 0.7891 - val_loss: 0.4477 - val_accuracy: 0.8359\n",
            "Epoch 10/10\n",
            "4/4 [==============================] - 9s 3s/step - loss: 0.4185 - accuracy: 0.8525 - val_loss: 0.3925 - val_accuracy: 0.8672\n",
            "Finished training with {'num_epoch': 10, 'batch_size': 16, 'learning_rate': 0.005, 'final_train_accuracy': 0.8524590134620667, 'final_val_accuracy': 0.8671875}\n",
            "Epoch 1/10\n",
            "4/4 [==============================] - 11s 3s/step - loss: 0.4885 - accuracy: 0.8125 - val_loss: 0.4200 - val_accuracy: 0.8516\n",
            "Epoch 2/10\n",
            "4/4 [==============================] - 8s 2s/step - loss: 0.3516 - accuracy: 0.8906 - val_loss: 0.4610 - val_accuracy: 0.8281\n",
            "Epoch 3/10\n",
            "4/4 [==============================] - 14s 4s/step - loss: 0.4200 - accuracy: 0.8516 - val_loss: 0.4337 - val_accuracy: 0.8438\n",
            "Epoch 4/10\n",
            "4/4 [==============================] - 9s 3s/step - loss: 0.4063 - accuracy: 0.8594 - val_loss: 0.3789 - val_accuracy: 0.8750\n",
            "Epoch 5/10\n",
            "4/4 [==============================] - 10s 3s/step - loss: 0.4063 - accuracy: 0.8594 - val_loss: 0.4474 - val_accuracy: 0.8359\n",
            "Epoch 6/10\n",
            "4/4 [==============================] - 8s 2s/step - loss: 0.4474 - accuracy: 0.8359 - val_loss: 0.4200 - val_accuracy: 0.8516\n",
            "Epoch 7/10\n",
            "4/4 [==============================] - 14s 4s/step - loss: 0.4328 - accuracy: 0.8443 - val_loss: 0.4337 - val_accuracy: 0.8438\n",
            "Epoch 8/10\n",
            "4/4 [==============================] - 9s 3s/step - loss: 0.4759 - accuracy: 0.8197 - val_loss: 0.4200 - val_accuracy: 0.8516\n",
            "Epoch 9/10\n",
            "4/4 [==============================] - 8s 2s/step - loss: 0.3790 - accuracy: 0.8750 - val_loss: 0.3926 - val_accuracy: 0.8672\n",
            "Epoch 10/10\n",
            "4/4 [==============================] - 10s 3s/step - loss: 0.3180 - accuracy: 0.9098 - val_loss: 0.3653 - val_accuracy: 0.8828\n",
            "Finished training with {'num_epoch': 10, 'batch_size': 16, 'learning_rate': 0.001, 'final_train_accuracy': 0.9098360538482666, 'final_val_accuracy': 0.8828125}\n",
            "Epoch 1/10\n",
            "4/4 [==============================] - 12s 3s/step - loss: 0.3926 - accuracy: 0.8672 - val_loss: 0.4063 - val_accuracy: 0.8594\n",
            "Epoch 2/10\n",
            "4/4 [==============================] - 10s 3s/step - loss: 0.3926 - accuracy: 0.8672 - val_loss: 0.4474 - val_accuracy: 0.8359\n",
            "Epoch 3/10\n",
            "4/4 [==============================] - 9s 3s/step - loss: 0.4884 - accuracy: 0.8125 - val_loss: 0.4200 - val_accuracy: 0.8516\n",
            "Epoch 4/10\n",
            "4/4 [==============================] - 9s 3s/step - loss: 0.4063 - accuracy: 0.8594 - val_loss: 0.4337 - val_accuracy: 0.8438\n",
            "Epoch 5/10\n",
            "4/4 [==============================] - 10s 3s/step - loss: 0.4747 - accuracy: 0.8203 - val_loss: 0.4474 - val_accuracy: 0.8359\n",
            "Epoch 6/10\n",
            "4/4 [==============================] - 9s 3s/step - loss: 0.4200 - accuracy: 0.8516 - val_loss: 0.4610 - val_accuracy: 0.8281\n",
            "Epoch 7/10\n",
            "4/4 [==============================] - 9s 3s/step - loss: 0.5157 - accuracy: 0.7969 - val_loss: 0.4473 - val_accuracy: 0.8359\n",
            "Epoch 8/10\n",
            "4/4 [==============================] - 9s 3s/step - loss: 0.4200 - accuracy: 0.8516 - val_loss: 0.4200 - val_accuracy: 0.8516\n",
            "Epoch 9/10\n",
            "4/4 [==============================] - 13s 4s/step - loss: 0.4473 - accuracy: 0.8359 - val_loss: 0.3790 - val_accuracy: 0.8750\n",
            "Epoch 10/10\n",
            "4/4 [==============================] - 9s 3s/step - loss: 0.3323 - accuracy: 0.9016 - val_loss: 0.4200 - val_accuracy: 0.8516\n",
            "Finished training with {'num_epoch': 10, 'batch_size': 16, 'learning_rate': 0.0001, 'final_train_accuracy': 0.9016393423080444, 'final_val_accuracy': 0.8515625}\n",
            "Epoch 1/10\n",
            "4/4 [==============================] - 13s 3s/step - loss: 0.3800 - accuracy: 0.8770 - val_loss: 0.4119 - val_accuracy: 0.8594\n",
            "Epoch 2/10\n",
            "4/4 [==============================] - 13s 4s/step - loss: 0.5159 - accuracy: 0.8047 - val_loss: 0.4334 - val_accuracy: 0.8438\n",
            "Epoch 3/10\n",
            "4/4 [==============================] - 10s 3s/step - loss: 0.3578 - accuracy: 0.8906 - val_loss: 0.4226 - val_accuracy: 0.8516\n",
            "Epoch 4/10\n",
            "4/4 [==============================] - 9s 3s/step - loss: 0.4225 - accuracy: 0.8516 - val_loss: 0.3956 - val_accuracy: 0.8672\n",
            "Epoch 5/10\n",
            "4/4 [==============================] - 9s 3s/step - loss: 0.4337 - accuracy: 0.8438 - val_loss: 0.4069 - val_accuracy: 0.8594\n",
            "Epoch 6/10\n",
            "4/4 [==============================] - 13s 4s/step - loss: 0.4072 - accuracy: 0.8594 - val_loss: 0.4201 - val_accuracy: 0.8516\n",
            "Epoch 7/10\n",
            "4/4 [==============================] - 13s 4s/step - loss: 0.3920 - accuracy: 0.8672 - val_loss: 0.4062 - val_accuracy: 0.8594\n",
            "Epoch 8/10\n",
            "4/4 [==============================] - 10s 3s/step - loss: 0.4639 - accuracy: 0.8281 - val_loss: 0.3921 - val_accuracy: 0.8672\n",
            "Epoch 9/10\n",
            "4/4 [==============================] - 8s 3s/step - loss: 0.3931 - accuracy: 0.8672 - val_loss: 0.4478 - val_accuracy: 0.8359\n",
            "Epoch 10/10\n",
            "4/4 [==============================] - 9s 3s/step - loss: 0.4622 - accuracy: 0.8281 - val_loss: 0.4465 - val_accuracy: 0.8359\n",
            "Finished training with {'num_epoch': 10, 'batch_size': 32, 'learning_rate': 0.1, 'final_train_accuracy': 0.828125, 'final_val_accuracy': 0.8359375}\n",
            "Epoch 1/10\n",
            "4/4 [==============================] - 13s 3s/step - loss: 0.4723 - accuracy: 0.8203 - val_loss: 0.4336 - val_accuracy: 0.8438\n",
            "Epoch 2/10\n",
            "4/4 [==============================] - 10s 3s/step - loss: 0.4209 - accuracy: 0.8516 - val_loss: 0.3954 - val_accuracy: 0.8672\n",
            "Epoch 3/10\n",
            "4/4 [==============================] - 8s 2s/step - loss: 0.4210 - accuracy: 0.8516 - val_loss: 0.4463 - val_accuracy: 0.8359\n",
            "Epoch 4/10\n",
            "4/4 [==============================] - 10s 3s/step - loss: 0.4598 - accuracy: 0.8279 - val_loss: 0.3950 - val_accuracy: 0.8672\n",
            "Epoch 5/10\n",
            "4/4 [==============================] - 13s 4s/step - loss: 0.4593 - accuracy: 0.8281 - val_loss: 0.4336 - val_accuracy: 0.8438\n",
            "Epoch 6/10\n",
            "4/4 [==============================] - 9s 3s/step - loss: 0.4329 - accuracy: 0.8443 - val_loss: 0.3954 - val_accuracy: 0.8672\n",
            "Epoch 7/10\n",
            "4/4 [==============================] - 8s 2s/step - loss: 0.4464 - accuracy: 0.8359 - val_loss: 0.4209 - val_accuracy: 0.8516\n",
            "Epoch 8/10\n",
            "4/4 [==============================] - 10s 3s/step - loss: 0.3954 - accuracy: 0.8672 - val_loss: 0.3695 - val_accuracy: 0.8828\n",
            "Epoch 9/10\n",
            "4/4 [==============================] - 13s 4s/step - loss: 0.4077 - accuracy: 0.8594 - val_loss: 0.4335 - val_accuracy: 0.8438\n",
            "Epoch 10/10\n",
            "4/4 [==============================] - 9s 3s/step - loss: 0.4053 - accuracy: 0.8607 - val_loss: 0.4334 - val_accuracy: 0.8438\n",
            "Finished training with {'num_epoch': 10, 'batch_size': 32, 'learning_rate': 0.01, 'final_train_accuracy': 0.8606557250022888, 'final_val_accuracy': 0.84375}\n",
            "Epoch 1/10\n",
            "4/4 [==============================] - 10s 3s/step - loss: 0.3774 - accuracy: 0.8770 - val_loss: 0.4602 - val_accuracy: 0.8281\n",
            "Epoch 2/10\n",
            "4/4 [==============================] - 9s 3s/step - loss: 0.5307 - accuracy: 0.7869 - val_loss: 0.4068 - val_accuracy: 0.8594\n",
            "Epoch 3/10\n",
            "4/4 [==============================] - 13s 4s/step - loss: 0.4069 - accuracy: 0.8594 - val_loss: 0.4069 - val_accuracy: 0.8594\n",
            "Epoch 4/10\n",
            "4/4 [==============================] - 8s 2s/step - loss: 0.3804 - accuracy: 0.8750 - val_loss: 0.4600 - val_accuracy: 0.8281\n",
            "Epoch 5/10\n",
            "4/4 [==============================] - 9s 3s/step - loss: 0.4202 - accuracy: 0.8516 - val_loss: 0.4334 - val_accuracy: 0.8438\n",
            "Epoch 6/10\n",
            "4/4 [==============================] - 10s 3s/step - loss: 0.3669 - accuracy: 0.8828 - val_loss: 0.4067 - val_accuracy: 0.8594\n",
            "Epoch 7/10\n",
            "4/4 [==============================] - 8s 2s/step - loss: 0.3798 - accuracy: 0.8750 - val_loss: 0.4200 - val_accuracy: 0.8516\n",
            "Epoch 8/10\n",
            "4/4 [==============================] - 9s 3s/step - loss: 0.4184 - accuracy: 0.8525 - val_loss: 0.4065 - val_accuracy: 0.8594\n",
            "Epoch 9/10\n",
            "4/4 [==============================] - 10s 3s/step - loss: 0.4201 - accuracy: 0.8516 - val_loss: 0.3791 - val_accuracy: 0.8750\n",
            "Epoch 10/10\n",
            "4/4 [==============================] - 10s 3s/step - loss: 0.4470 - accuracy: 0.8361 - val_loss: 0.3927 - val_accuracy: 0.8672\n",
            "Finished training with {'num_epoch': 10, 'batch_size': 32, 'learning_rate': 0.005, 'final_train_accuracy': 0.8360655903816223, 'final_val_accuracy': 0.8671875}\n",
            "Epoch 1/10\n",
            "4/4 [==============================] - 12s 3s/step - loss: 0.3381 - accuracy: 0.8984 - val_loss: 0.4337 - val_accuracy: 0.8438\n",
            "Epoch 2/10\n",
            "4/4 [==============================] - 9s 3s/step - loss: 0.3899 - accuracy: 0.8689 - val_loss: 0.4063 - val_accuracy: 0.8594\n",
            "Epoch 3/10\n",
            "4/4 [==============================] - 10s 3s/step - loss: 0.4616 - accuracy: 0.8279 - val_loss: 0.4063 - val_accuracy: 0.8594\n",
            "Epoch 4/10\n",
            "4/4 [==============================] - 9s 2s/step - loss: 0.4611 - accuracy: 0.8281 - val_loss: 0.4474 - val_accuracy: 0.8359\n",
            "Epoch 5/10\n",
            "4/4 [==============================] - 9s 3s/step - loss: 0.4611 - accuracy: 0.8281 - val_loss: 0.4200 - val_accuracy: 0.8516\n",
            "Epoch 6/10\n",
            "4/4 [==============================] - 10s 3s/step - loss: 0.3242 - accuracy: 0.9062 - val_loss: 0.4474 - val_accuracy: 0.8359\n",
            "Epoch 7/10\n",
            "4/4 [==============================] - 13s 4s/step - loss: 0.4041 - accuracy: 0.8607 - val_loss: 0.4200 - val_accuracy: 0.8516\n",
            "Epoch 8/10\n",
            "4/4 [==============================] - 14s 4s/step - loss: 0.2967 - accuracy: 0.9219 - val_loss: 0.3788 - val_accuracy: 0.8750\n",
            "Epoch 9/10\n",
            "4/4 [==============================] - 10s 3s/step - loss: 0.4337 - accuracy: 0.8438 - val_loss: 0.4200 - val_accuracy: 0.8516\n",
            "Epoch 10/10\n",
            "4/4 [==============================] - 10s 3s/step - loss: 0.4200 - accuracy: 0.8516 - val_loss: 0.3925 - val_accuracy: 0.8672\n",
            "Finished training with {'num_epoch': 10, 'batch_size': 32, 'learning_rate': 0.001, 'final_train_accuracy': 0.8515625, 'final_val_accuracy': 0.8671875}\n",
            "Epoch 1/10\n",
            "4/4 [==============================] - 12s 3s/step - loss: 0.3101 - accuracy: 0.9141 - val_loss: 0.4200 - val_accuracy: 0.8516\n",
            "Epoch 2/10\n",
            "4/4 [==============================] - 8s 3s/step - loss: 0.3607 - accuracy: 0.8852 - val_loss: 0.3925 - val_accuracy: 0.8672\n",
            "Epoch 3/10\n",
            "4/4 [==============================] - 10s 3s/step - loss: 0.4200 - accuracy: 0.8516 - val_loss: 0.4475 - val_accuracy: 0.8359\n",
            "Epoch 4/10\n",
            "4/4 [==============================] - 10s 3s/step - loss: 0.4063 - accuracy: 0.8594 - val_loss: 0.4475 - val_accuracy: 0.8359\n",
            "Epoch 5/10\n",
            "4/4 [==============================] - 8s 2s/step - loss: 0.3650 - accuracy: 0.8828 - val_loss: 0.4200 - val_accuracy: 0.8516\n",
            "Epoch 6/10\n",
            "4/4 [==============================] - 10s 3s/step - loss: 0.4475 - accuracy: 0.8359 - val_loss: 0.4062 - val_accuracy: 0.8594\n",
            "Epoch 7/10\n",
            "4/4 [==============================] - 13s 4s/step - loss: 0.4475 - accuracy: 0.8359 - val_loss: 0.4338 - val_accuracy: 0.8438\n",
            "Epoch 8/10\n",
            "4/4 [==============================] - 13s 4s/step - loss: 0.5025 - accuracy: 0.8047 - val_loss: 0.4200 - val_accuracy: 0.8516\n",
            "Epoch 9/10\n",
            "4/4 [==============================] - 9s 3s/step - loss: 0.4200 - accuracy: 0.8516 - val_loss: 0.3925 - val_accuracy: 0.8672\n",
            "Epoch 10/10\n",
            "4/4 [==============================] - 9s 3s/step - loss: 0.3319 - accuracy: 0.9016 - val_loss: 0.4200 - val_accuracy: 0.8516\n",
            "Finished training with {'num_epoch': 10, 'batch_size': 32, 'learning_rate': 0.0001, 'final_train_accuracy': 0.9016393423080444, 'final_val_accuracy': 0.8515625}\n",
            "Epoch 1/10\n",
            "4/4 [==============================] - 13s 3s/step - loss: 0.4211 - accuracy: 0.8525 - val_loss: 0.4202 - val_accuracy: 0.8516\n"
          ]
        }
      ]
    },
    {
      "cell_type": "code",
      "source": [
        "%load_ext tensorboard"
      ],
      "metadata": {
        "id": "_4U3auBWcswP"
      },
      "execution_count": null,
      "outputs": []
    },
    {
      "cell_type": "code",
      "source": [
        "%tensorboard --logdir logs/"
      ],
      "metadata": {
        "id": "8rZWJGFpgBml"
      },
      "execution_count": null,
      "outputs": []
    },
    {
      "cell_type": "code",
      "source": [
        "tensorboard dev upload --logdir logs \\\n",
        "    --name \"Teste hiperparâmetros 2\" \\\n",
        "    --description \"Testando outros hiperparametros para ver como o modelo se comporta.\""
      ],
      "metadata": {
        "id": "uYdvukYtOpBs"
      },
      "execution_count": null,
      "outputs": []
    }
  ]
}