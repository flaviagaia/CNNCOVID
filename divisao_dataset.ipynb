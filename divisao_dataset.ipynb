{
  "nbformat": 4,
  "nbformat_minor": 0,
  "metadata": {
    "colab": {
      "provenance": []
    },
    "kernelspec": {
      "name": "python3",
      "display_name": "Python 3"
    },
    "language_info": {
      "name": "python"
    }
  },
  "cells": [
    {
      "cell_type": "code",
      "source": [
        "from google.colab import drive\n",
        "drive.mount('/content/drive')"
      ],
      "metadata": {
        "colab": {
          "base_uri": "https://localhost:8080/"
        },
        "id": "NYOJpSY0DZXV",
        "outputId": "7b63111a-0954-4102-9b9f-2416730f5990"
      },
      "execution_count": 1,
      "outputs": [
        {
          "output_type": "stream",
          "name": "stdout",
          "text": [
            "Mounted at /content/drive\n"
          ]
        }
      ]
    },
    {
      "cell_type": "code",
      "source": [
        "import os\n",
        "import shutil\n",
        "import numpy as np\n",
        "\n",
        "# Definindo as pastas de origem\n",
        "covid_folder = '/content/drive/MyDrive/CNN_COVID/dados_fonte/covid_total/'\n",
        "normal_folder = '/content/drive/MyDrive/CNN_COVID/dados_fonte/normal_total/'\n",
        "\n",
        "# Definindo as pastas de destino\n",
        "train_covid_folder = '/content/drive/MyDrive/CNN_COVID/Dados_divididos/train/Covid'\n",
        "test_covid_folder = '/content/drive/MyDrive/CNN_COVID/Dados_divididos/test/Covid'\n",
        "train_normal_folder = '/content/drive/MyDrive/CNN_COVID/Dados_divididos/train/Normal'\n",
        "test_normal_folder = '/content/drive/MyDrive/CNN_COVID/Dados_divididos/test/Normal'\n",
        "\n",
        "# Criando as pastas de destino, se não existirem\n",
        "os.makedirs(train_covid_folder, exist_ok=True)\n",
        "os.makedirs(test_covid_folder, exist_ok=True)\n",
        "os.makedirs(train_normal_folder, exist_ok=True)\n",
        "os.makedirs(test_normal_folder, exist_ok=True)\n",
        "\n",
        "# Função para dividir os dados\n",
        "def split_data(src_folder, train_folder, test_folder, train_ratio=0.7):\n",
        "    # Lista todos os arquivos na pasta de origem\n",
        "    all_files = os.listdir(src_folder)\n",
        "\n",
        "    # Embaralha a lista de arquivos\n",
        "    np.random.shuffle(all_files)\n",
        "\n",
        "    # Calcula o número de arquivos para o conjunto de treino\n",
        "    train_count = int(len(all_files) * train_ratio)\n",
        "\n",
        "    # Divide os arquivos em conjuntos de treino e teste\n",
        "    train_files = all_files[:train_count]\n",
        "    test_files = all_files[train_count:]\n",
        "\n",
        "    # Copia os arquivos para as respectivas pastas\n",
        "    for file in train_files:\n",
        "        shutil.copy(os.path.join(src_folder, file), train_folder)\n",
        "\n",
        "    for file in test_files:\n",
        "        shutil.copy(os.path.join(src_folder, file), test_folder)\n",
        "\n",
        "# Dividindo os dados\n",
        "split_data(covid_folder, train_covid_folder, test_covid_folder)\n",
        "split_data(normal_folder, train_normal_folder, test_normal_folder)"
      ],
      "metadata": {
        "id": "DXzykYvZDiYp"
      },
      "execution_count": 2,
      "outputs": []
    },
    {
      "cell_type": "code",
      "source": [
        "# Conferindo e contando:\n",
        "import os\n",
        "\n",
        "# Contando o número de imagens em cada pasta\n",
        "num_train_covid = len(os.listdir(train_covid_folder))\n",
        "num_test_covid = len(os.listdir(test_covid_folder))\n",
        "num_train_normal = len(os.listdir(train_normal_folder))\n",
        "num_test_normal = len(os.listdir(test_normal_folder))\n",
        "\n",
        "print(f\"Número de imagens de treino com Covid: {num_train_covid}\")\n",
        "print(f\"Número de imagens de teste com Covid: {num_test_covid}\")\n",
        "print(f\"Número de imagens de treino Normais: {num_train_normal}\")\n",
        "print(f\"Número de imagens de teste Normais: {num_test_normal}\")"
      ],
      "metadata": {
        "colab": {
          "base_uri": "https://localhost:8080/"
        },
        "id": "s2grbZquP0VU",
        "outputId": "9dad3541-2afa-4a19-a2b6-4df2f0a9a5a9"
      },
      "execution_count": 3,
      "outputs": [
        {
          "output_type": "stream",
          "name": "stdout",
          "text": [
            "Número de imagens de treino com Covid: 353\n",
            "Número de imagens de teste com Covid: 152\n",
            "Número de imagens de treino Normais: 1108\n",
            "Número de imagens de teste Normais: 476\n"
          ]
        }
      ]
    },
    {
      "cell_type": "code",
      "source": [
        "# Total:\n",
        "total_images = num_train_covid + num_test_covid + num_train_normal + num_test_normal\n",
        "\n",
        "print(f\"Total de imagens: {total_images}\")"
      ],
      "metadata": {
        "colab": {
          "base_uri": "https://localhost:8080/"
        },
        "id": "qg4gjPldQLZE",
        "outputId": "62463836-1db5-4c8a-b3ed-b067e14f26ce"
      },
      "execution_count": 4,
      "outputs": [
        {
          "output_type": "stream",
          "name": "stdout",
          "text": [
            "Total de imagens: 2089\n"
          ]
        }
      ]
    }
  ]
}